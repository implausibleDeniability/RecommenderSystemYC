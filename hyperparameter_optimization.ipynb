{
 "cells": [
  {
   "cell_type": "code",
   "execution_count": 1,
   "metadata": {},
   "outputs": [],
   "source": [
    "%config Completer.use_jedi = False"
   ]
  },
  {
   "cell_type": "code",
   "execution_count": 2,
   "metadata": {},
   "outputs": [],
   "source": [
    "import os\n",
    "import sys\n",
    "import time\n",
    "import pandas as pd\n",
    "import numpy as np\n",
    "import scipy\n",
    "from scipy import sparse as sp\n",
    "from matplotlib import pyplot as plt\n",
    "import pickle\n",
    "from tqdm import tqdm\n",
    "import datetime\n",
    "from joblib import Parallel, delayed\n",
    "\n",
    "from scripts.multiple_logging import setup_logger\n",
    "from scripts.utils import convert_ids_to_ordered, MovingAverage\n",
    "from scripts.mnap import compute_mnap"
   ]
  },
  {
   "cell_type": "code",
   "execution_count": 3,
   "metadata": {},
   "outputs": [],
   "source": [
    "X_train = sp.load_npz(\"sparse_data/X_train.npz\")\n",
    "X_test = sp.load_npz(\"sparse_data/X_test.npz\")\n",
    "y_train = pd.read_csv('sparse_data/y_train.csv')\n",
    "y_test = pd.read_csv(\"sparse_data/y_test.csv\")"
   ]
  },
  {
   "cell_type": "code",
   "execution_count": 4,
   "metadata": {},
   "outputs": [],
   "source": [
    "y_train = 2 * (y_train.rating >=4).astype(int) - 1\n",
    "y_test = 2 * (y_test.rating >= 4).astype(int) - 1"
   ]
  },
  {
   "cell_type": "markdown",
   "metadata": {},
   "source": [
    "## Train fastFM"
   ]
  },
  {
   "cell_type": "code",
   "execution_count": 5,
   "metadata": {},
   "outputs": [],
   "source": [
    "from fastFM import mcmc, als, sgd\n",
    "from sklearn.metrics import mean_squared_error"
   ]
  },
  {
   "cell_type": "code",
   "execution_count": 6,
   "metadata": {},
   "outputs": [],
   "source": [
    "import optuna"
   ]
  },
  {
   "cell_type": "code",
   "execution_count": 7,
   "metadata": {},
   "outputs": [
    {
     "name": "stderr",
     "output_type": "stream",
     "text": [
      "/miniconda/lib/python3.8/site-packages/IPython/core/interactiveshell.py:3444: DtypeWarning: Columns (4) have mixed types.Specify dtype option on import or set low_memory=False.\n",
      "  exec(code_obj, self.user_global_ns, self.user_ns)\n"
     ]
    }
   ],
   "source": [
    "organizations = pd.read_csv('data/organisations.csv').set_index('org_id')\n",
    "reviews = pd.read_csv('data/reviews.csv')\n",
    "test_users = pd.read_csv('data/test_users.csv').set_index('user_id')\n",
    "users = pd.read_csv('data/users.csv').set_index('user_id')\n",
    "\n",
    "reviews = reviews[reviews.rating.notna()]\n",
    "reviews['rating'] = reviews['rating'].apply(int)\n",
    "reviews['org_id'] = reviews['org_id'].astype(str)\n",
    "reviews['user_id'] = reviews['user_id'].astype(str)\n",
    "organizations.index = organizations.index.astype(str)\n",
    "users.index = users.index.astype(str)\n",
    "test_users.index = test_users.index.astype(str)\n",
    "\n",
    "users_ordered, orgs_ordered, reviews_ordered = convert_ids_to_ordered(users, organizations, reviews)\n",
    "n_users = len(users_ordered)\n",
    "n_orgs = len(orgs_ordered)\n",
    "\n",
    "test_users = test_users.join(users_ordered)\n",
    "msk_mask = np.array(orgs_ordered.city == 'msk')\n",
    "orgs_ordered['other_city'] = orgs_ordered['city'].apply(lambda x: 'spb' if x == 'msk' else 'msk')\n",
    "\n",
    "ordered_to_initial_org = {}\n",
    "for i in range(len(orgs_ordered)):\n",
    "    ordered_to_initial_org[i] = orgs_ordered['ordered_id'].index[i]\n",
    "\n",
    "ordered_to_initial_user = {}\n",
    "for i in range(len(users_ordered)):\n",
    "    ordered_to_initial_user[i] = users_ordered['ordered_id'].index[i]"
   ]
  },
  {
   "cell_type": "code",
   "execution_count": 8,
   "metadata": {},
   "outputs": [],
   "source": [
    "from scripts.mnap import compute_mnap\n",
    "\n",
    "def get_recommendations(review_batch):\n",
    "    recommendations = []\n",
    "    index = review_batch.groupby('ordered_id_user').rating.nlargest(20).index\n",
    "    for j in range(len(index)//20):\n",
    "        a = index[j*20:(j+1)*20]\n",
    "        array = np.array(list(map(list, a)))\n",
    "        recommended_organizations = []\n",
    "        for line_index in array[:, 1]:\n",
    "            org = review_batch.loc[line_index].ordered_id_org\n",
    "            recommended_organizations.append(ordered_to_initial_org[org])\n",
    "        user_recommendation = ' '.join(recommended_organizations)\n",
    "        user = ordered_to_initial_user[array[0, 0]]\n",
    "        recommendations.append([user, user_recommendation])\n",
    "    return recommendations\n",
    "\n",
    "def eval_single_batch(machine, index):\n",
    "    submission_review_batch = test_users.iloc[index*100:(index+1)*100].merge(\n",
    "            orgs_ordered[['other_city', 'ordered_id']], how='inner',\n",
    "            left_on='city', right_on='other_city', suffixes=('_user', '_org'))\n",
    "    x_submit = sp.load_npz(f\"sparse_data/submission_batches/batch{index}.npz\")\n",
    "    values = machine.predict_proba(x_submit)\n",
    "    submission_review_batch['rating'] = values\n",
    "    return get_recommendations(submission_review_batch)\n",
    "\n",
    "def eval_model(machine):    \n",
    "    submissions = []\n",
    "    for i in tqdm(range(len(test_users) // 100 + 1)):\n",
    "        submissions.extend(eval_single_batch(machine, i))\n",
    "    result = pd.DataFrame(submissions, columns = ['user_id', 'target'])\n",
    "    result = result.set_index('user_id')\n",
    "    result.index = result.index.astype(np.uint64)\n",
    "    res = compute_mnap(result)\n",
    "    return res"
   ]
  },
  {
   "cell_type": "code",
   "execution_count": 9,
   "metadata": {},
   "outputs": [],
   "source": [
    "def assess_model(trial):\n",
    "    x = time.time()\n",
    "    n_iter = trial.suggest_int('n_iter', 1, 100, log=True)\n",
    "    model = trial.suggest_categorical('model', ['als', 'sgd'])\n",
    "    rank = trial.suggest_int('rank', 2, 32, log=True)\n",
    "    init_stdev = trial.suggest_float('init_stdev', 0.00001, 1, log=True)\n",
    "    reg_w = trial.suggest_float('reg_w', 0.001, 100, log=True)\n",
    "    reg_v = trial.suggest_float('reg_v', 0.001, 1000, log=True)\n",
    "    step_size = trial.suggest_float('step_size', 0.00001, 1, log=True)\n",
    "    \n",
    "    if model == 'als':\n",
    "        machine = als.FMClassification(\n",
    "            n_iter=n_iter, \n",
    "            init_stdev=init_stdev, \n",
    "            rank=rank, \n",
    "            l2_reg_w=reg_w, \n",
    "            l2_reg_V=reg_v)\n",
    "        machine.fit(X_train, y_train)            \n",
    "            \n",
    "    if model == 'sgd':\n",
    "        machine = sgd.FMClassification(n_iter=n_iter, \n",
    "                                       l2_reg_w=reg_w,\n",
    "                                       l2_reg_V=reg_v, \n",
    "                                       rank=rank, \n",
    "                                       step_size=step_size, \n",
    "                                       init_stdev=init_stdev)\n",
    "        machine.fit(X_train, y_train)\n",
    "    training_time = time.time() - x\n",
    "    x = time.time()\n",
    "    mnap = eval_model(machine)\n",
    "    eval_time = time.time() - x\n",
    "    with open(\"hyperparams_tune.log\", 'a') as file:\n",
    "        file.write(f\"Model: {model}, n_iter: {n_iter}, rank: {rank}, init_stdev: {init_stdev}, \"\n",
    "                   f\"reg_w: {reg_w}, reg_v: {reg_v}, step_size: {step_size}\\n\")\n",
    "        file.write(f\"MNAP: {mnap}\\n\")\n",
    "        file.write(f\"Time spent: {training_time / 60} {eval_time / 60}\\n\\n\")\n",
    "    return mnap"
   ]
  },
  {
   "cell_type": "code",
   "execution_count": null,
   "metadata": {},
   "outputs": [
    {
     "name": "stderr",
     "output_type": "stream",
     "text": [
      "\u001b[32m[I 2021-11-26 17:34:05,552]\u001b[0m A new study created in memory with name: no-name-7f04f251-2c8b-4ee5-989a-f20ca2a56c80\u001b[0m\n",
      " 64%|██████▎   | 108/170 [24:06<12:05, 11.70s/it]"
     ]
    }
   ],
   "source": [
    "study = optuna.create_study(direction='maximize')\n",
    "study.optimize(assess_model, n_trials=10)\n",
    "df = study.trials_dataframe(attrs=(\"number\", \"value\", \"params\"))\n",
    "df.set_index(\"number\", inplace=True)\n",
    "df.to_csv(f\"optuna.csv\", index=True)"
   ]
  }
 ],
 "metadata": {
  "kernelspec": {
   "display_name": "base",
   "language": "python",
   "name": "base"
  },
  "language_info": {
   "codemirror_mode": {
    "name": "ipython",
    "version": 3
   },
   "file_extension": ".py",
   "mimetype": "text/x-python",
   "name": "python",
   "nbconvert_exporter": "python",
   "pygments_lexer": "ipython3",
   "version": "3.8.5"
  }
 },
 "nbformat": 4,
 "nbformat_minor": 4
}
