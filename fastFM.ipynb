{
 "cells": [
  {
   "cell_type": "code",
   "execution_count": 4,
   "metadata": {},
   "outputs": [],
   "source": [
    "%config Completer.use_jedi = False"
   ]
  },
  {
   "cell_type": "code",
   "execution_count": 5,
   "metadata": {},
   "outputs": [],
   "source": [
    "import os\n",
    "import sys\n",
    "import time\n",
    "import pandas as pd\n",
    "import numpy as np\n",
    "import scipy\n",
    "from matplotlib import pyplot as plt\n",
    "import pickle\n",
    "from tqdm import tqdm\n",
    "from linetimer import CodeTimer\n",
    "import datetime\n",
    "\n",
    "from scripts.multiple_logging import setup_logger\n",
    "from scripts.utils import convert_ids_to_ordered, MovingAverage\n",
    "from scripts.mnap import compute_mnap\n",
    "tqdm.pandas()"
   ]
  },
  {
   "cell_type": "code",
   "execution_count": 6,
   "metadata": {},
   "outputs": [
    {
     "name": "stderr",
     "output_type": "stream",
     "text": [
      "/home/maxon/anaconda3/envs/core_ds/lib/python3.8/site-packages/IPython/core/interactiveshell.py:3441: DtypeWarning: Columns (4) have mixed types.Specify dtype option on import or set low_memory=False.\n",
      "  exec(code_obj, self.user_global_ns, self.user_ns)\n"
     ]
    }
   ],
   "source": [
    "aspects = pd.read_csv('data/aspects.csv').set_index(\"aspect_id\")\n",
    "features = pd.read_csv('data/features.csv').set_index('feature_id')\n",
    "organizations = pd.read_csv('data/organisations.csv').set_index('org_id')\n",
    "reviews = pd.read_csv('data/reviews.csv')\n",
    "rubrics = pd.read_csv('data/rubrics.csv').set_index('rubric_id')\n",
    "test_users = pd.read_csv('data/test_users.csv').set_index('user_id')\n",
    "users = pd.read_csv('data/users.csv').set_index('user_id')"
   ]
  },
  {
   "cell_type": "markdown",
   "metadata": {},
   "source": [
    "#### Preprocessing the reviews"
   ]
  },
  {
   "cell_type": "code",
   "execution_count": 7,
   "metadata": {},
   "outputs": [],
   "source": [
    "reviews = reviews[reviews.rating.notna()]\n",
    "reviews['rating'] = reviews['rating'].apply(int)\n",
    "reviews['org_id'] = reviews['org_id'].astype(str)\n",
    "reviews['user_id'] = reviews['user_id'].astype(str)\n",
    "organizations.index = organizations.index.astype(str)\n",
    "users.index = users.index.astype(str)\n",
    "test_users.index = test_users.index.astype(str)\n",
    "rubrics.index = rubrics.index.astype(str)\n",
    "aspects.index = aspects.index.astype(str)\n",
    "### DONT FORGET TO CONVERT OTHER DATAFRAMES TO STR"
   ]
  },
  {
   "cell_type": "code",
   "execution_count": 8,
   "metadata": {},
   "outputs": [],
   "source": [
    "rated = reviews.groupby('user_id').rating.count()\n",
    "good_users = rated[rated > 10].index\n",
    "rated_orgs = reviews.groupby('org_id').rating.count()\n",
    "good_orgs = rated_orgs[rated_orgs > 10].index"
   ]
  },
  {
   "cell_type": "code",
   "execution_count": 9,
   "metadata": {},
   "outputs": [],
   "source": [
    "cleaned_reviews = reviews.query('user_id in @good_users and org_id in @good_orgs')"
   ]
  },
  {
   "cell_type": "code",
   "execution_count": 10,
   "metadata": {},
   "outputs": [],
   "source": [
    "users_ordered, orgs_ordered, reviews_ordered = convert_ids_to_ordered(users, organizations, reviews)\n",
    "n_users = len(users_ordered)\n",
    "n_orgs = len(orgs_ordered)"
   ]
  },
  {
   "cell_type": "code",
   "execution_count": 11,
   "metadata": {},
   "outputs": [
    {
     "name": "stderr",
     "output_type": "stream",
     "text": [
      "/tmp/ipykernel_42176/540280539.py:3: SettingWithCopyWarning: \n",
      "A value is trying to be set on a copy of a slice from a DataFrame.\n",
      "Try using .loc[row_indexer,col_indexer] = value instead\n",
      "\n",
      "See the caveats in the documentation: https://pandas.pydata.org/pandas-docs/stable/user_guide/indexing.html#returning-a-view-versus-a-copy\n",
      "  orgs_rubrics[rubrics.rubric_name.iloc[i]] = orgs_rubrics['rubrics_id'].apply(lambda x: str(rubrics.index[i]) in x.split())\n"
     ]
    }
   ],
   "source": [
    "orgs_rubrics = orgs_ordered[['rubrics_id']]\n",
    "for i in range(len(rubrics)):\n",
    "    orgs_rubrics[rubrics.rubric_name.iloc[i]] = orgs_rubrics['rubrics_id'].apply(lambda x: str(rubrics.index[i]) in x.split())\n",
    "orgs_rubrics = orgs_rubrics.drop('rubrics_id', axis=1)\n",
    "orgs_rubrics = orgs_rubrics.join(orgs_ordered['ordered_id']).set_index('ordered_id')"
   ]
  },
  {
   "cell_type": "code",
   "execution_count": 12,
   "metadata": {},
   "outputs": [],
   "source": [
    "orgs_features = orgs_ordered[['features_id']].astype(str)\n",
    "for i in range(len(features)):\n",
    "    orgs_features[features.feature_name.iloc[i]] = orgs_features['features_id'].apply(lambda x: str(features.index[i]) in x.split())\n",
    "orgs_features = orgs_features.drop('features_id', axis=1)\n",
    "orgs_features = orgs_features.join(orgs_ordered['ordered_id']).set_index('ordered_id')"
   ]
  },
  {
   "cell_type": "code",
   "execution_count": 13,
   "metadata": {},
   "outputs": [],
   "source": [
    "validation_split_day = 1050\n",
    "train_reviews = reviews_ordered[reviews_ordered.ts < validation_split_day]\n",
    "test_reviews = reviews_ordered[reviews_ordered.ts >= validation_split_day]"
   ]
  },
  {
   "cell_type": "markdown",
   "metadata": {},
   "source": [
    "#### Convert to sparce matrix"
   ]
  },
  {
   "cell_type": "code",
   "execution_count": 14,
   "metadata": {},
   "outputs": [
    {
     "name": "stderr",
     "output_type": "stream",
     "text": [
      "/tmp/ipykernel_42176/2938850681.py:5: SettingWithCopyWarning: \n",
      "A value is trying to be set on a copy of a slice from a DataFrame.\n",
      "Try using .loc[row_indexer,col_indexer] = value instead\n",
      "\n",
      "See the caveats in the documentation: https://pandas.pydata.org/pandas-docs/stable/user_guide/indexing.html#returning-a-view-versus-a-copy\n",
      "  df['user_index'] = df['ordered_id_user']\n",
      "/tmp/ipykernel_42176/2938850681.py:6: SettingWithCopyWarning: \n",
      "A value is trying to be set on a copy of a slice from a DataFrame.\n",
      "Try using .loc[row_indexer,col_indexer] = value instead\n",
      "\n",
      "See the caveats in the documentation: https://pandas.pydata.org/pandas-docs/stable/user_guide/indexing.html#returning-a-view-versus-a-copy\n",
      "  df['org_index'] = df['ordered_id_org'] + last_user + 1\n"
     ]
    }
   ],
   "source": [
    "import scipy.sparse as sp\n",
    "last_user = max(reviews_ordered.ordered_id_user)\n",
    "\n",
    "def sp_indeces(df):\n",
    "    df['user_index'] = df['ordered_id_user']\n",
    "    df['org_index'] = df['ordered_id_org'] + last_user + 1\n",
    "    \n",
    "\n",
    "sp_indeces(train_reviews)\n",
    "sp_indeces(test_reviews)"
   ]
  },
  {
   "cell_type": "code",
   "execution_count": 15,
   "metadata": {},
   "outputs": [],
   "source": [
    "def make_sparse(df):\n",
    "    length = len(df)\n",
    "    coo = sp.coo_matrix(\n",
    "        ([1] * 2 * length, \n",
    "        (\n",
    "            list(range(length)) + list(range(length)),\n",
    "            list(df['org_index']) + list(df['user_index'])\n",
    "        )),\n",
    "        shape=(length, n_users+n_orgs)\n",
    "    )\n",
    "    sparse_rubrics = sp.coo_matrix(df.join(orgs_rubrics, on='ordered_id_org').iloc[:, 7:].astype(float))\n",
    "    sparse_features = sp.coo_matrix(df.join(orgs_features, on='ordered_id_org').iloc[:, 7:].astype(float))\n",
    "    return coo\n",
    "#     return sp.hstack([coo, sparse_rubrics, sparse_features])\n",
    "    \n",
    "X_train = make_sparse(train_reviews)\n",
    "X_test = make_sparse(test_reviews)\n",
    "y_train = train_reviews['rating']\n",
    "y_test = test_reviews['rating']"
   ]
  },
  {
   "cell_type": "markdown",
   "metadata": {},
   "source": [
    "## Train fastFM"
   ]
  },
  {
   "cell_type": "code",
   "execution_count": 34,
   "metadata": {},
   "outputs": [],
   "source": [
    "import fastFM as fm\n",
    "from fastFM import mcmc, als, sgd\n",
    "from sklearn.metrics import mean_squared_error"
   ]
  },
  {
   "cell_type": "code",
   "execution_count": 35,
   "metadata": {},
   "outputs": [],
   "source": [
    "rank = 2\n",
    "seed = 15\n",
    "step_size = 0.3\n",
    "init_stdev = 0.1\n",
    "l2_reg_w = 0.1\n",
    "l2_reg_V = 0.1"
   ]
  },
  {
   "cell_type": "markdown",
   "metadata": {},
   "source": [
    "### SGD"
   ]
  },
  {
   "cell_type": "code",
   "execution_count": 31,
   "metadata": {},
   "outputs": [],
   "source": [
    "# rmse_test_re = []\n",
    "# rmse_train_re = [0]\n",
    "# iterations = range(1, 2000, 50)\n",
    "# for i in iterations:\n",
    "#     fm = sgd.FMRegression(n_iter=i, l2_reg_w=l2_reg_w,l2_reg_V=l2_reg_V, rank=rank, random_state=seed, step_size=step_size, init_stdev=init_stdev)\n",
    "#     rmse_test_re.append(np.sqrt(mean_squared_error(fm.predict(X_test), y_test)))\n",
    "#     rmse_train_re.append(np.sqrt(mean_squared_error(fm.predict(X_train), y_train)))\n",
    "#     print(rmse_train_re[-1], rmse_test_re[-1])"
   ]
  },
  {
   "cell_type": "markdown",
   "metadata": {},
   "source": [
    "### MCMC"
   ]
  },
  {
   "cell_type": "code",
   "execution_count": 37,
   "metadata": {},
   "outputs": [],
   "source": [
    "machine = mcmc.FMRegression(n_iter=0, rank=rank, init_stdev=init_stdev)"
   ]
  },
  {
   "cell_type": "code",
   "execution_count": 38,
   "metadata": {},
   "outputs": [
    {
     "name": "stdout",
     "output_type": "stream",
     "text": [
      "4.534206714930456\n",
      "4.524010299086885\n",
      "4.519508027946975\n",
      "4.517143260742467\n"
     ]
    },
    {
     "ename": "KeyboardInterrupt",
     "evalue": "",
     "output_type": "error",
     "traceback": [
      "\u001b[0;31m---------------------------------------------------------------------------\u001b[0m",
      "\u001b[0;31mKeyboardInterrupt\u001b[0m                         Traceback (most recent call last)",
      "\u001b[0;32m/tmp/ipykernel_42176/826452483.py\u001b[0m in \u001b[0;36m<module>\u001b[0;34m\u001b[0m\n\u001b[1;32m      2\u001b[0m \u001b[0mmachine\u001b[0m\u001b[0;34m.\u001b[0m\u001b[0mfit_predict\u001b[0m\u001b[0;34m(\u001b[0m\u001b[0mX_train\u001b[0m\u001b[0;34m,\u001b[0m \u001b[0my_train\u001b[0m\u001b[0;34m,\u001b[0m \u001b[0mX_test\u001b[0m\u001b[0;34m)\u001b[0m\u001b[0;34m\u001b[0m\u001b[0;34m\u001b[0m\u001b[0m\n\u001b[1;32m      3\u001b[0m \u001b[0;32mfor\u001b[0m \u001b[0mi\u001b[0m \u001b[0;32min\u001b[0m \u001b[0mrange\u001b[0m\u001b[0;34m(\u001b[0m\u001b[0;36m10\u001b[0m\u001b[0;34m)\u001b[0m\u001b[0;34m:\u001b[0m\u001b[0;34m\u001b[0m\u001b[0;34m\u001b[0m\u001b[0m\n\u001b[0;32m----> 4\u001b[0;31m     \u001b[0my_pred\u001b[0m \u001b[0;34m=\u001b[0m \u001b[0mmachine\u001b[0m\u001b[0;34m.\u001b[0m\u001b[0mfit_predict\u001b[0m\u001b[0;34m(\u001b[0m\u001b[0mX_train\u001b[0m\u001b[0;34m,\u001b[0m \u001b[0my_train\u001b[0m\u001b[0;34m,\u001b[0m \u001b[0mX_test\u001b[0m\u001b[0;34m,\u001b[0m \u001b[0mn_more_iter\u001b[0m\u001b[0;34m=\u001b[0m\u001b[0;36m5\u001b[0m\u001b[0;34m)\u001b[0m\u001b[0;34m\u001b[0m\u001b[0;34m\u001b[0m\u001b[0m\n\u001b[0m\u001b[1;32m      5\u001b[0m     \u001b[0mrmse_test_re\u001b[0m\u001b[0;34m.\u001b[0m\u001b[0mappend\u001b[0m\u001b[0;34m(\u001b[0m\u001b[0mnp\u001b[0m\u001b[0;34m.\u001b[0m\u001b[0msqrt\u001b[0m\u001b[0;34m(\u001b[0m\u001b[0mmean_squared_error\u001b[0m\u001b[0;34m(\u001b[0m\u001b[0my_pred\u001b[0m\u001b[0;34m,\u001b[0m \u001b[0my_test\u001b[0m\u001b[0;34m)\u001b[0m\u001b[0;34m)\u001b[0m\u001b[0;34m)\u001b[0m\u001b[0;34m\u001b[0m\u001b[0;34m\u001b[0m\u001b[0m\n\u001b[1;32m      6\u001b[0m     \u001b[0mprint\u001b[0m\u001b[0;34m(\u001b[0m\u001b[0mrmse_test_re\u001b[0m\u001b[0;34m[\u001b[0m\u001b[0;34m-\u001b[0m\u001b[0;36m1\u001b[0m\u001b[0;34m]\u001b[0m\u001b[0;34m)\u001b[0m\u001b[0;34m\u001b[0m\u001b[0;34m\u001b[0m\u001b[0m\n",
      "\u001b[0;32m~/anaconda3/envs/core_ds/lib/python3.8/site-packages/fastFM/mcmc.py\u001b[0m in \u001b[0;36mfit_predict\u001b[0;34m(self, X_train, y_train, X_test, n_more_iter)\u001b[0m\n\u001b[1;32m    120\u001b[0m             \u001b[0mself\u001b[0m\u001b[0;34m.\u001b[0m\u001b[0miter_count\u001b[0m \u001b[0;34m=\u001b[0m \u001b[0;36m0\u001b[0m\u001b[0;34m\u001b[0m\u001b[0;34m\u001b[0m\u001b[0m\n\u001b[1;32m    121\u001b[0m \u001b[0;34m\u001b[0m\u001b[0m\n\u001b[0;32m--> 122\u001b[0;31m         coef, y_pred = ffm.ffm_mcmc_fit_predict(self, X_train,\n\u001b[0m\u001b[1;32m    123\u001b[0m                                                 X_test, y_train)\n\u001b[1;32m    124\u001b[0m         \u001b[0mself\u001b[0m\u001b[0;34m.\u001b[0m\u001b[0mw0_\u001b[0m\u001b[0;34m,\u001b[0m \u001b[0mself\u001b[0m\u001b[0;34m.\u001b[0m\u001b[0mw_\u001b[0m\u001b[0;34m,\u001b[0m \u001b[0mself\u001b[0m\u001b[0;34m.\u001b[0m\u001b[0mV_\u001b[0m \u001b[0;34m=\u001b[0m \u001b[0mcoef\u001b[0m\u001b[0;34m\u001b[0m\u001b[0;34m\u001b[0m\u001b[0m\n",
      "\u001b[0;31mKeyboardInterrupt\u001b[0m: "
     ]
    }
   ],
   "source": [
    "rmse_test_re = []\n",
    "machine.fit_predict(X_train, y_train, X_test)\n",
    "for i in range(10):\n",
    "    y_pred = machine.fit_predict(X_train, y_train, X_test, n_more_iter=5)\n",
    "    rmse_test_re.append(np.sqrt(mean_squared_error(y_pred, y_test)))\n",
    "    print(rmse_test_re[-1])"
   ]
  },
  {
   "cell_type": "code",
   "execution_count": 21,
   "metadata": {},
   "outputs": [
    {
     "data": {
      "text/plain": [
       "1.2059134375768787"
      ]
     },
     "execution_count": 21,
     "metadata": {},
     "output_type": "execute_result"
    }
   ],
   "source": [
    "np.sqrt(np.mean((y_test - np.mean(y_train))**2))"
   ]
  },
  {
   "cell_type": "markdown",
   "metadata": {},
   "source": [
    "### ALS"
   ]
  },
  {
   "cell_type": "code",
   "execution_count": 22,
   "metadata": {},
   "outputs": [],
   "source": [
    "from fastFM import als"
   ]
  },
  {
   "cell_type": "code",
   "execution_count": 28,
   "metadata": {},
   "outputs": [],
   "source": [
    "rmse_test_re = []\n",
    "machine = als.FMRegression(n_iter=100, init_stdev=0.1, rank=2, l2_reg_w=0.1, l2_reg_V=0.5)"
   ]
  },
  {
   "cell_type": "code",
   "execution_count": 29,
   "metadata": {},
   "outputs": [
    {
     "data": {
      "text/plain": [
       "4.793449422626955"
      ]
     },
     "execution_count": 29,
     "metadata": {},
     "output_type": "execute_result"
    }
   ],
   "source": [
    "machine.fit(X_train, y_train)\n",
    "y_pred = machine.predict(X_test)\n",
    "np.sqrt(mean_squared_error(y_pred, y_test))"
   ]
  },
  {
   "cell_type": "code",
   "execution_count": null,
   "metadata": {},
   "outputs": [],
   "source": [
    "from matplotlib import pyplot as plt\n",
    "\n",
    "x = list(iterations)\n",
    "\n",
    "with plt.style.context('fivethirtyeight'):\n",
    "    plt.plot(x, rmse_train_re, label='train')\n",
    "    plt.plot(x, rmse_test_re, label='test')\n",
    "plt.legend()\n",
    "plt.show()"
   ]
  },
  {
   "cell_type": "code",
   "execution_count": null,
   "metadata": {},
   "outputs": [],
   "source": []
  }
 ],
 "metadata": {
  "kernelspec": {
   "display_name": "core_ds",
   "language": "python",
   "name": "core_ds"
  },
  "language_info": {
   "codemirror_mode": {
    "name": "ipython",
    "version": 3
   },
   "file_extension": ".py",
   "mimetype": "text/x-python",
   "name": "python",
   "nbconvert_exporter": "python",
   "pygments_lexer": "ipython3",
   "version": "3.8.11"
  }
 },
 "nbformat": 4,
 "nbformat_minor": 4
}
