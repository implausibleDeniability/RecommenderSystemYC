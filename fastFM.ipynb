{
 "cells": [
  {
   "cell_type": "code",
   "execution_count": 1,
   "metadata": {},
   "outputs": [],
   "source": [
    "%config Completer.use_jedi = False"
   ]
  },
  {
   "cell_type": "code",
   "execution_count": 2,
   "metadata": {},
   "outputs": [],
   "source": [
    "import os\n",
    "import sys\n",
    "import time\n",
    "import pandas as pd\n",
    "import numpy as np\n",
    "import scipy\n",
    "from scipy import sparse as sp\n",
    "from matplotlib import pyplot as plt\n",
    "import pickle\n",
    "from tqdm import tqdm\n",
    "import datetime\n",
    "\n",
    "from scripts.multiple_logging import setup_logger\n",
    "from scripts.utils import convert_ids_to_ordered, MovingAverage\n",
    "from scripts.mnap import compute_mnap"
   ]
  },
  {
   "cell_type": "code",
   "execution_count": 3,
   "metadata": {},
   "outputs": [],
   "source": [
    "X_train = sp.load_npz(\"sparse_data/X_train.npz\")\n",
    "X_test = sp.load_npz(\"sparse_data/X_test.npz\")\n",
    "y_train = pd.read_csv('sparse_data/y_train.csv')\n",
    "y_test = pd.read_csv(\"sparse_data/y_test.csv\")"
   ]
  },
  {
   "cell_type": "code",
   "execution_count": 4,
   "metadata": {},
   "outputs": [],
   "source": [
    "y_train = 2 * (y_train.rating >=4).astype(int) - 1\n",
    "y_test = 2 * (y_test.rating >= 4).astype(int) - 1"
   ]
  },
  {
   "cell_type": "markdown",
   "metadata": {},
   "source": [
    "## Train fastFM"
   ]
  },
  {
   "cell_type": "code",
   "execution_count": 5,
   "metadata": {},
   "outputs": [],
   "source": [
    "from fastFM import mcmc, als, sgd\n",
    "from sklearn.metrics import mean_squared_error"
   ]
  },
  {
   "cell_type": "code",
   "execution_count": 6,
   "metadata": {},
   "outputs": [],
   "source": [
    "rank = 4\n",
    "seed = 15\n",
    "step_size = 0.3\n",
    "init_stdev = 0.1\n",
    "l2_reg_w = 0.1\n",
    "l2_reg_V = 0.1"
   ]
  },
  {
   "cell_type": "code",
   "execution_count": 7,
   "metadata": {},
   "outputs": [
    {
     "data": {
      "text/plain": [
       "0.7685089945056228"
      ]
     },
     "execution_count": 7,
     "metadata": {},
     "output_type": "execute_result"
    }
   ],
   "source": [
    "# baseline to outperform\n",
    "np.sqrt(np.mean((y_test - np.mean(y_train))**2))"
   ]
  },
  {
   "cell_type": "markdown",
   "metadata": {},
   "source": [
    "### SGD"
   ]
  },
  {
   "cell_type": "code",
   "execution_count": 8,
   "metadata": {},
   "outputs": [],
   "source": [
    "# rmse_test_re = []\n",
    "# rmse_train_re = [0]\n",
    "# iterations = range(1, 2000, 50)\n",
    "# for i in iterations:\n",
    "#     fm = sgd.FMRegression(n_iter=i, l2_reg_w=l2_reg_w,l2_reg_V=l2_reg_V, rank=rank, random_state=seed, step_size=step_size, init_stdev=init_stdev)\n",
    "#     rmse_test_re.append(np.sqrt(mean_squared_error(fm.predict(X_test), y_test)))\n",
    "#     rmse_train_re.append(np.sqrt(mean_squared_error(fm.predict(X_train), y_train)))\n",
    "#     print(rmse_train_re[-1], rmse_test_re[-1])"
   ]
  },
  {
   "cell_type": "markdown",
   "metadata": {},
   "source": [
    "### MCMC"
   ]
  },
  {
   "cell_type": "code",
   "execution_count": 19,
   "metadata": {},
   "outputs": [],
   "source": [
    "machine = mcmc.FMClassification(n_iter=20, rank=12, init_stdev=init_stdev)"
   ]
  },
  {
   "cell_type": "code",
   "execution_count": 20,
   "metadata": {},
   "outputs": [
    {
     "name": "stdout",
     "output_type": "stream",
     "text": [
      "0.847867918789338\n"
     ]
    }
   ],
   "source": [
    "rmse_test_re = []\n",
    "machine.fit_predict(X_train, y_train, X_test)\n",
    "for i in range(1):\n",
    "    y_pred = machine.fit_predict(X_train, y_train, X_test)\n",
    "    rmse_test_re.append(np.sqrt(mean_squared_error(y_pred, y_test)))\n",
    "    print(rmse_test_re[-1])"
   ]
  },
  {
   "cell_type": "markdown",
   "metadata": {},
   "source": [
    "### ALS"
   ]
  },
  {
   "cell_type": "code",
   "execution_count": 21,
   "metadata": {},
   "outputs": [],
   "source": [
    "from fastFM import als"
   ]
  },
  {
   "cell_type": "code",
   "execution_count": 22,
   "metadata": {},
   "outputs": [
    {
     "data": {
      "text/plain": [
       "FMClassification(l2_reg_V=5, l2_reg_w=1, n_iter=0, rank=3)"
      ]
     },
     "execution_count": 22,
     "metadata": {},
     "output_type": "execute_result"
    }
   ],
   "source": [
    "machine = als.FMClassification(n_iter=0, init_stdev=0.1, rank=3, l2_reg_w=1, l2_reg_V=5)\n",
    "machine.fit(X_train, y_train)"
   ]
  },
  {
   "cell_type": "code",
   "execution_count": 23,
   "metadata": {},
   "outputs": [],
   "source": [
    "from sklearn.metrics import accuracy_score"
   ]
  },
  {
   "cell_type": "code",
   "execution_count": 24,
   "metadata": {},
   "outputs": [
    {
     "data": {
      "text/plain": [
       "0.820024034026597"
      ]
     },
     "execution_count": 24,
     "metadata": {},
     "output_type": "execute_result"
    }
   ],
   "source": [
    "accuracy_score(y_test, [1] * len(y_test))"
   ]
  },
  {
   "cell_type": "code",
   "execution_count": 25,
   "metadata": {},
   "outputs": [
    {
     "name": "stdout",
     "output_type": "stream",
     "text": [
      "0.7215519713013884 0.717154743562255\n",
      "0.8159301258065971 0.789087288725781\n",
      "0.819178074977032 0.7909970464408532\n",
      "0.8199276017086707 0.7903870542028798\n",
      "0.820374618529736 0.7900097565515992\n",
      "0.8206007603236033 0.7897255367349958\n",
      "0.8207357212195067 0.7895510157949761\n",
      "0.820834143921641 0.7893316180418085\n",
      "0.8209019535425096 0.7891820286646489\n",
      "0.820957912938372 0.7889609688072906\n",
      "0.8209766757946316 0.7887565299918391\n",
      "0.8210145306800679 0.7885155248841929\n",
      "0.8210283559425752 0.7883609491944612\n",
      "0.8210477771446686 0.7881914145670136\n",
      "0.8210606148884252 0.7880534599191885\n",
      "0.821083327819687 0.7878872495001221\n",
      "0.821091557142608 0.7877243632894372\n",
      "0.8210787193988512 0.7875481802452269\n",
      "0.8210767443613503 0.7874185361183551\n",
      "0.8210849736842711 0.7873138235543433\n"
     ]
    }
   ],
   "source": [
    "rmse_test_metric = []\n",
    "rmse_train_metric = []\n",
    "for i in range(20):\n",
    "    rmse_test_metric.append(accuracy_score(machine.predict(X_test) > 0.5, y_test))\n",
    "    rmse_train_metric.append(accuracy_score(machine.predict(X_train) > 0.5, y_train))\n",
    "    print(rmse_train_metric[-1], rmse_test_metric[-1])\n",
    "    machine.fit(X_train, y_train, n_more_iter=1)"
   ]
  },
  {
   "cell_type": "markdown",
   "metadata": {},
   "source": [
    "### Make predictions on submit dataset"
   ]
  },
  {
   "cell_type": "code",
   "execution_count": 26,
   "metadata": {},
   "outputs": [
    {
     "name": "stderr",
     "output_type": "stream",
     "text": [
      "/miniconda/lib/python3.8/site-packages/IPython/core/interactiveshell.py:3444: DtypeWarning: Columns (4) have mixed types.Specify dtype option on import or set low_memory=False.\n",
      "  exec(code_obj, self.user_global_ns, self.user_ns)\n"
     ]
    }
   ],
   "source": [
    "organizations = pd.read_csv('data/organisations.csv').set_index('org_id')\n",
    "reviews = pd.read_csv('data/reviews.csv')\n",
    "test_users = pd.read_csv('data/test_users.csv').set_index('user_id')\n",
    "users = pd.read_csv('data/users.csv').set_index('user_id')\n",
    "\n",
    "reviews = reviews[reviews.rating.notna()]\n",
    "reviews['rating'] = reviews['rating'].apply(int)\n",
    "reviews['org_id'] = reviews['org_id'].astype(str)\n",
    "reviews['user_id'] = reviews['user_id'].astype(str)\n",
    "organizations.index = organizations.index.astype(str)\n",
    "users.index = users.index.astype(str)\n",
    "test_users.index = test_users.index.astype(str)\n",
    "\n",
    "users_ordered, orgs_ordered, reviews_ordered = convert_ids_to_ordered(users, organizations, reviews)\n",
    "n_users = len(users_ordered)\n",
    "n_orgs = len(orgs_ordered)"
   ]
  },
  {
   "cell_type": "code",
   "execution_count": 27,
   "metadata": {},
   "outputs": [],
   "source": [
    "test_users = test_users.join(users_ordered)\n",
    "msk_mask = np.array(orgs_ordered.city == 'msk')\n",
    "orgs_ordered['other_city'] = orgs_ordered['city'].apply(lambda x: 'spb' if x == 'msk' else 'msk')"
   ]
  },
  {
   "cell_type": "code",
   "execution_count": 28,
   "metadata": {},
   "outputs": [],
   "source": [
    "ordered_to_initial_org = {}\n",
    "for i in range(len(orgs_ordered)):\n",
    "    ordered_to_initial_org[i] = orgs_ordered['ordered_id'].index[i]\n",
    "    \n",
    "ordered_to_initial_user = {}\n",
    "for i in range(len(users_ordered)):\n",
    "    ordered_to_initial_user[i] = users_ordered['ordered_id'].index[i]"
   ]
  },
  {
   "cell_type": "code",
   "execution_count": 29,
   "metadata": {},
   "outputs": [],
   "source": [
    "def get_recommendations(review_batch):\n",
    "    recommendations = []\n",
    "    index = submission_review_batch.groupby('ordered_id_user').rating.nlargest(20).index\n",
    "    for j in range(len(index)//20):\n",
    "        a = index[j*20:(j+1)*20]\n",
    "        array = np.array(list(map(list, a)))\n",
    "        recommended_organizations = []\n",
    "        for line_index in array[:, 1]:\n",
    "            org = submission_review_batch.loc[line_index].ordered_id_org\n",
    "            recommended_organizations.append(ordered_to_initial_org[org])\n",
    "        user_recommendation = ' '.join(recommended_organizations)\n",
    "        user = ordered_to_initial_user[array[0, 0]]\n",
    "        recommendations.append([user, user_recommendation])\n",
    "    return recommendations"
   ]
  },
  {
   "cell_type": "code",
   "execution_count": 30,
   "metadata": {},
   "outputs": [
    {
     "name": "stderr",
     "output_type": "stream",
     "text": [
      "100%|██████████| 170/170 [08:53<00:00,  3.14s/it]\n"
     ]
    }
   ],
   "source": [
    "submissions = []\n",
    "for i in tqdm(range(len(test_users) // 100 + 1)):\n",
    "    submission_review_batch = test_users.iloc[i*100:(i+1)*100].merge(\n",
    "        orgs_ordered[['other_city', 'ordered_id']], how='inner',\n",
    "        left_on='city', right_on='other_city', suffixes=('_user', '_org'))\n",
    "    x_submit = sp.load_npz(f\"sparse_data/submission_batches/batch{i}.npz\")\n",
    "    \n",
    "    values = machine.predict(x_submit)\n",
    "    submission_review_batch['rating'] = values\n",
    "    submissions.extend(get_recommendations(submission_review_batch))"
   ]
  },
  {
   "cell_type": "code",
   "execution_count": 31,
   "metadata": {},
   "outputs": [],
   "source": [
    "from datetime import datetime"
   ]
  },
  {
   "cell_type": "code",
   "execution_count": 33,
   "metadata": {},
   "outputs": [],
   "source": [
    "result = pd.DataFrame(submissions, columns = ['user_id', 'target'])\n",
    "result = result.set_index('user_id')\n",
    "result.index = result.index.astype(np.uint64)\n",
    "result.to_csv(f'submissions/libFM_{datetime.now()}.csv')"
   ]
  },
  {
   "cell_type": "code",
   "execution_count": null,
   "metadata": {},
   "outputs": [],
   "source": [
    "from scripts.mnap import compute_mnap\n",
    "res = compute_mnap(result)\n",
    "res"
   ]
  }
 ],
 "metadata": {
  "kernelspec": {
   "display_name": "base",
   "language": "python",
   "name": "base"
  },
  "language_info": {
   "codemirror_mode": {
    "name": "ipython",
    "version": 3
   },
   "file_extension": ".py",
   "mimetype": "text/x-python",
   "name": "python",
   "nbconvert_exporter": "python",
   "pygments_lexer": "ipython3",
   "version": "3.8.5"
  }
 },
 "nbformat": 4,
 "nbformat_minor": 4
}
