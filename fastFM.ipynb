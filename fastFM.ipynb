{
 "cells": [
  {
   "cell_type": "code",
   "execution_count": 1,
   "metadata": {},
   "outputs": [],
   "source": [
    "%config Completer.use_jedi = False"
   ]
  },
  {
   "cell_type": "code",
   "execution_count": 2,
   "metadata": {},
   "outputs": [],
   "source": [
    "import os\n",
    "import sys\n",
    "import time\n",
    "import pandas as pd\n",
    "import numpy as np\n",
    "import scipy\n",
    "from scipy import sparse as sp\n",
    "from matplotlib import pyplot as plt\n",
    "import pickle\n",
    "from tqdm import tqdm\n",
    "import datetime\n",
    "\n",
    "from scripts.multiple_logging import setup_logger\n",
    "from scripts.utils import convert_ids_to_ordered, MovingAverage\n",
    "from scripts.mnap import compute_mnap"
   ]
  },
  {
   "cell_type": "code",
   "execution_count": 3,
   "metadata": {},
   "outputs": [],
   "source": [
    "X_train = sp.load_npz(\"sparse_data/X_train.npz\")\n",
    "X_test = sp.load_npz(\"sparse_data/X_test.npz\")\n",
    "y_train = pd.read_csv('sparse_data/y_train.csv')\n",
    "y_test = pd.read_csv(\"sparse_data/y_test.csv\")"
   ]
  },
  {
   "cell_type": "code",
   "execution_count": 4,
   "metadata": {},
   "outputs": [],
   "source": [
    "y_train = y_train.rating\n",
    "y_test = y_test.rating"
   ]
  },
  {
   "cell_type": "markdown",
   "metadata": {},
   "source": [
    "## Train fastFM"
   ]
  },
  {
   "cell_type": "code",
   "execution_count": 5,
   "metadata": {},
   "outputs": [],
   "source": [
    "from fastFM import mcmc, als, sgd\n",
    "from sklearn.metrics import mean_squared_error"
   ]
  },
  {
   "cell_type": "code",
   "execution_count": 6,
   "metadata": {},
   "outputs": [],
   "source": [
    "rank = 4\n",
    "seed = 15\n",
    "step_size = 0.3\n",
    "init_stdev = 0.1\n",
    "l2_reg_w = 0.1\n",
    "l2_reg_V = 0.1"
   ]
  },
  {
   "cell_type": "code",
   "execution_count": 7,
   "metadata": {},
   "outputs": [
    {
     "data": {
      "text/plain": [
       "1.2059134375722442"
      ]
     },
     "execution_count": 7,
     "metadata": {},
     "output_type": "execute_result"
    }
   ],
   "source": [
    "# baseline to outperform\n",
    "np.sqrt(np.mean((y_test - np.mean(y_train))**2))"
   ]
  },
  {
   "cell_type": "markdown",
   "metadata": {},
   "source": [
    "### SGD"
   ]
  },
  {
   "cell_type": "code",
   "execution_count": 8,
   "metadata": {},
   "outputs": [],
   "source": [
    "# rmse_test_re = []\n",
    "# rmse_train_re = [0]\n",
    "# iterations = range(1, 2000, 50)\n",
    "# for i in iterations:\n",
    "#     fm = sgd.FMRegression(n_iter=i, l2_reg_w=l2_reg_w,l2_reg_V=l2_reg_V, rank=rank, random_state=seed, step_size=step_size, init_stdev=init_stdev)\n",
    "#     rmse_test_re.append(np.sqrt(mean_squared_error(fm.predict(X_test), y_test)))\n",
    "#     rmse_train_re.append(np.sqrt(mean_squared_error(fm.predict(X_train), y_train)))\n",
    "#     print(rmse_train_re[-1], rmse_test_re[-1])"
   ]
  },
  {
   "cell_type": "markdown",
   "metadata": {},
   "source": [
    "### MCMC"
   ]
  },
  {
   "cell_type": "code",
   "execution_count": 9,
   "metadata": {},
   "outputs": [],
   "source": [
    "machine = mcmc.FMRegression(n_iter=0, rank=8, init_stdev=init_stdev)"
   ]
  },
  {
   "cell_type": "code",
   "execution_count": 10,
   "metadata": {},
   "outputs": [
    {
     "name": "stdout",
     "output_type": "stream",
     "text": [
      "1.177225323355309\n",
      "1.1735614110654096\n",
      "1.171150916193435\n",
      "1.1691861613692267\n",
      "1.1674081657716926\n",
      "1.1658775328782305\n",
      "1.1645793587001\n",
      "1.1635162045052183\n",
      "1.1625854835399216\n",
      "1.1618379492018531\n",
      "1.1612348323362867\n",
      "1.1606946664195013\n",
      "1.1602224973625421\n",
      "1.1598668121641735\n",
      "1.1595308071180699\n",
      "1.159245143512729\n",
      "1.1589831344015165\n",
      "1.1587989776480796\n",
      "1.158625977620565\n",
      "1.1584256485851734\n"
     ]
    }
   ],
   "source": [
    "rmse_test_re = []\n",
    "machine.fit_predict(X_train, y_train, X_test)\n",
    "for i in range(20):\n",
    "    y_pred = machine.fit_predict(X_train, y_train, X_test, n_more_iter=5)\n",
    "    rmse_test_re.append(np.sqrt(mean_squared_error(y_pred, y_test)))\n",
    "    print(rmse_test_re[-1])"
   ]
  },
  {
   "cell_type": "markdown",
   "metadata": {},
   "source": [
    "### ALS"
   ]
  },
  {
   "cell_type": "code",
   "execution_count": 11,
   "metadata": {},
   "outputs": [],
   "source": [
    "from fastFM import als"
   ]
  },
  {
   "cell_type": "code",
   "execution_count": 15,
   "metadata": {},
   "outputs": [
    {
     "data": {
      "text/plain": [
       "FMRegression(l2_reg_V=40, l2_reg_w=4, n_iter=0, rank=4)"
      ]
     },
     "execution_count": 15,
     "metadata": {},
     "output_type": "execute_result"
    }
   ],
   "source": [
    "machine = als.FMRegression(n_iter=0, init_stdev=0.1, rank=4, l2_reg_w=4, l2_reg_V=40)\n",
    "machine.fit(X_train, y_train)"
   ]
  },
  {
   "cell_type": "code",
   "execution_count": 16,
   "metadata": {},
   "outputs": [
    {
     "name": "stdout",
     "output_type": "stream",
     "text": [
      "4.145479843069438 4.141492051192489\n",
      "0.8782549788422414 1.159014859039651\n",
      "0.8740560818768811 1.1571669479246152\n",
      "0.863527809112829 1.1573504539292965\n",
      "0.8558919040611088 1.1576292488873803\n",
      "0.8512374718523829 1.1580290655968581\n",
      "0.8471834931034479 1.1585127070689307\n",
      "0.843084513507544 1.159143585536511\n"
     ]
    }
   ],
   "source": [
    "rmse_test_re = []\n",
    "rmse_train_re = []\n",
    "for i in range(8):\n",
    "    rmse_test_re.append(np.sqrt(mean_squared_error(machine.predict(X_test), y_test)))\n",
    "    rmse_train_re.append(np.sqrt(mean_squared_error(machine.predict(X_train), y_train)))\n",
    "    print(rmse_train_re[-1], rmse_test_re[-1])\n",
    "    machine.fit(X_train, y_train, n_more_iter=1)"
   ]
  }
 ],
 "metadata": {
  "kernelspec": {
   "display_name": "base",
   "language": "python",
   "name": "base"
  },
  "language_info": {
   "codemirror_mode": {
    "name": "ipython",
    "version": 3
   },
   "file_extension": ".py",
   "mimetype": "text/x-python",
   "name": "python",
   "nbconvert_exporter": "python",
   "pygments_lexer": "ipython3",
   "version": "3.8.5"
  }
 },
 "nbformat": 4,
 "nbformat_minor": 4
}
