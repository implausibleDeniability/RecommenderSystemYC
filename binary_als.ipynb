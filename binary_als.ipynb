{
 "cells": [
  {
   "cell_type": "code",
   "execution_count": 1,
   "metadata": {},
   "outputs": [],
   "source": [
    "%config Completer.use_jedi = False"
   ]
  },
  {
   "cell_type": "code",
   "execution_count": 2,
   "metadata": {},
   "outputs": [],
   "source": [
    "import os\n",
    "import sys\n",
    "import time\n",
    "import pandas as pd\n",
    "import numpy as np\n",
    "import scipy\n",
    "from matplotlib import pyplot as plt\n",
    "import pickle\n",
    "from tqdm import tqdm\n",
    "from linetimer import CodeTimer\n",
    "\n",
    "from utils import convert_ids_to_ordered, MovingAverage\n",
    "\n",
    "tqdm.pandas()"
   ]
  },
  {
   "cell_type": "code",
   "execution_count": 3,
   "metadata": {},
   "outputs": [
    {
     "name": "stderr",
     "output_type": "stream",
     "text": [
      "/home/maxon/anaconda3/envs/core_ds/lib/python3.8/site-packages/IPython/core/interactiveshell.py:3441: DtypeWarning: Columns (4) have mixed types.Specify dtype option on import or set low_memory=False.\n",
      "  exec(code_obj, self.user_global_ns, self.user_ns)\n"
     ]
    }
   ],
   "source": [
    "aspects = pd.read_csv('data/aspects.csv').set_index(\"aspect_id\")\n",
    "features = pd.read_csv('data/features.csv').set_index('feature_id')\n",
    "organizations = pd.read_csv('data/organisations.csv').set_index('org_id')\n",
    "reviews = pd.read_csv('data/reviews.csv')\n",
    "rubrics = pd.read_csv('data/rubrics.csv').set_index('rubric_id')\n",
    "test_users = pd.read_csv('data/test_users.csv').set_index('user_id')\n",
    "users = pd.read_csv('data/users.csv').set_index('user_id')"
   ]
  },
  {
   "cell_type": "markdown",
   "metadata": {},
   "source": [
    "#### Preprocessing the reviews"
   ]
  },
  {
   "cell_type": "code",
   "execution_count": 8,
   "metadata": {},
   "outputs": [
    {
     "name": "stderr",
     "output_type": "stream",
     "text": [
      "/tmp/ipykernel_166316/2669186335.py:2: SettingWithCopyWarning: \n",
      "A value is trying to be set on a copy of a slice from a DataFrame.\n",
      "Try using .loc[row_indexer,col_indexer] = value instead\n",
      "\n",
      "See the caveats in the documentation: https://pandas.pydata.org/pandas-docs/stable/user_guide/indexing.html#returning-a-view-versus-a-copy\n",
      "  reviews['rating'] = reviews['rating'].apply(int)\n"
     ]
    }
   ],
   "source": [
    "reviews = reviews[reviews.rating.notna()]\n",
    "reviews['rating'] = reviews['rating'].apply(int)"
   ]
  },
  {
   "cell_type": "code",
   "execution_count": 9,
   "metadata": {},
   "outputs": [],
   "source": [
    "users_ordered, orgs_ordered, reviews_ordered = convert_ids_to_ordered(users, organizations, reviews)"
   ]
  },
  {
   "cell_type": "code",
   "execution_count": 10,
   "metadata": {},
   "outputs": [],
   "source": [
    "validation_split_day = 1050\n",
    "train_reviews = reviews_ordered[reviews_ordered.ts < validation_split_day]\n",
    "test_reviews = reviews_ordered[reviews_ordered.ts >= validation_split_day]"
   ]
  },
  {
   "cell_type": "code",
   "execution_count": 13,
   "metadata": {},
   "outputs": [
    {
     "data": {
      "text/plain": [
       "array([2, 105, nan, 212571, 49084], dtype=object)"
      ]
     },
     "execution_count": 13,
     "metadata": {},
     "output_type": "execute_result"
    }
   ],
   "source": [
    "next(iter(train_reviews.values))"
   ]
  },
  {
   "cell_type": "code",
   "execution_count": 15,
   "metadata": {},
   "outputs": [
    {
     "name": "stderr",
     "output_type": "stream",
     "text": [
      "100%|████████████████████████████| 3037917/3037917 [00:02<00:00, 1204314.40it/s]\n"
     ]
    }
   ],
   "source": [
    "fast_train_reviews = {}\n",
    "for line in tqdm(train_reviews.values):\n",
    "    fast_train_reviews[(line[3], line[4])] = line[0]"
   ]
  },
  {
   "cell_type": "markdown",
   "metadata": {},
   "source": [
    "### Training\n",
    "P - latent vectors for clients  \n",
    "Q - latent vectors for organizations   \n",
    "R - ratings\n",
    "\n",
    "I minimize $||R - PQ^T||^2$ + Reg"
   ]
  },
  {
   "cell_type": "code",
   "execution_count": 16,
   "metadata": {},
   "outputs": [],
   "source": [
    "train_reviews_array = train_reviews[['ordered_id_user', 'ordered_id_org', 'rating']].values\n",
    "test_reviews_array = test_reviews[['ordered_id_user', 'ordered_id_org', 'rating']].values"
   ]
  },
  {
   "cell_type": "code",
   "execution_count": 27,
   "metadata": {},
   "outputs": [],
   "source": [
    "def sigmoid(x):\n",
    "    return 1 / (1 + np.exp(-x))"
   ]
  },
  {
   "cell_type": "code",
   "execution_count": 28,
   "metadata": {},
   "outputs": [],
   "source": [
    "def test_model(\n",
    "        Ps: np.ndarray,\n",
    "        Qs: np.ndarray,\n",
    "        bias: float,\n",
    "    ) -> float:\n",
    "    losses = []\n",
    "    for i, review in enumerate(test_reviews_array):\n",
    "        user_id, org_id, true_rating = review\n",
    "        probability = sigmoid(Ps[user_id].dot(Qs[org_id]) + bias)\n",
    "        loss = -(true_rating * np.log(probability) + (1 - true_rating) * np.log(1 - probability))\n",
    "        losses.append(loss)\n",
    "    return np.mean(losses)"
   ]
  },
  {
   "cell_type": "code",
   "execution_count": 59,
   "metadata": {},
   "outputs": [],
   "source": [
    "def train_single_review(\n",
    "        user_id: np.ndarray, \n",
    "        org_id: np.ndarray,       \n",
    "        label: int,\n",
    "        Ps: np.ndarray,\n",
    "        Qs: np.ndarray,\n",
    "        bias: float,  \n",
    "        learning_rate: float = 0.01,\n",
    "        C: float = 0.0,\n",
    "        dropout_rate: float = 0.0,\n",
    "    ):\n",
    "    latent_size = Ps.shape[1]\n",
    "    # dropout part\n",
    "    bitmask = np.random.choice([True, False], size=(latent_size,), p=[1-dropout_rate, dropout_rate])\n",
    "    multiplier = latent_size / max(1, np.sum(bitmask))\n",
    "    P = Ps[user_id] * bitmask * multiplier\n",
    "    Q = Qs[org_id] * bitmask\n",
    "    # forward pass\n",
    "    pivot = P.dot(Q) + bias\n",
    "    prob = sigmoid(pivot)\n",
    "    loss = -(label * np.log(prob) + (1 - label) * np.log(1 - prob))\n",
    "    # backward pass\n",
    "    pivot_grad = -label * (1 - prob) + (1 - label) * prob\n",
    "    Ps_grad = learning_rate * pivot_grad * Q\n",
    "    Qs_grad = learning_rate * pivot_grad * P\n",
    "    bias_grad = learning_rate * pivot_grad\n",
    "    # parameters update\n",
    "    Ps[user_id] -= Ps_grad\n",
    "    Qs[org_id] -= Qs_grad\n",
    "    bias -= bias_grad\n",
    "    \n",
    "    Qs[org_id][Qs[org_id] < 0] = 0.01\n",
    "    return loss"
   ]
  },
  {
   "cell_type": "code",
   "execution_count": 65,
   "metadata": {},
   "outputs": [],
   "source": [
    "def train_model(\n",
    "        epochs: int = 7,\n",
    "        log_every: int = 1000000,\n",
    "        **kwargs,\n",
    "    ) -> float:\n",
    "    average_loss = MovingAverage(1 / log_every, 1)\n",
    "    for epoch in range(epochs):\n",
    "        for i, review in enumerate(train_reviews_array):\n",
    "            user_id, org_id, label = review\n",
    "            label = int(label >= 4.0)\n",
    "            loss = train_single_review(user_id, org_id, label, **kwargs)\n",
    "            average_loss.add(loss)\n",
    "            if i % log_every == 0:\n",
    "                print(f\"Iteration {i:07d}: Train loss\", average_loss)\n",
    "        print(f\"Test loss: {test_model(Ps, Qs, bias)}\")\n",
    "        print()"
   ]
  },
  {
   "cell_type": "code",
   "execution_count": null,
   "metadata": {},
   "outputs": [
    {
     "name": "stdout",
     "output_type": "stream",
     "text": [
      "Iteration 0000000: Train loss 1.0000008141396022\n",
      "Iteration 0200000: Train loss 0.8415996407896846\n",
      "Iteration 0400000: Train loss 0.7888284009417137\n"
     ]
    }
   ],
   "source": [
    "latent_size = 8\n",
    "# Ps = np.random.randn(len(users), latent_size) / latent_size + 1\n",
    "# Qs = np.random.randn(len(organizations), latent_size) / latent_size + 1\n",
    "# bias = np.random.randn()\n",
    "train_model(Ps=Ps, Qs=Qs, bias=bias, C=0.0, dropout_rate=0.0, epochs=1, log_every=200000)"
   ]
  }
 ],
 "metadata": {
  "kernelspec": {
   "display_name": "core_ds",
   "language": "python",
   "name": "core_ds"
  },
  "language_info": {
   "codemirror_mode": {
    "name": "ipython",
    "version": 3
   },
   "file_extension": ".py",
   "mimetype": "text/x-python",
   "name": "python",
   "nbconvert_exporter": "python",
   "pygments_lexer": "ipython3",
   "version": "3.8.11"
  }
 },
 "nbformat": 4,
 "nbformat_minor": 4
}
