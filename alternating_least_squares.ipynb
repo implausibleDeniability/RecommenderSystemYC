{
 "cells": [
  {
   "cell_type": "code",
   "execution_count": 1,
   "metadata": {},
   "outputs": [],
   "source": [
    "%config Completer.use_jedi = False"
   ]
  },
  {
   "cell_type": "code",
   "execution_count": 2,
   "metadata": {},
   "outputs": [],
   "source": [
    "import os\n",
    "import sys\n",
    "import time\n",
    "import pandas as pd\n",
    "import numpy as np\n",
    "import scipy\n",
    "# from matplotlib import pyplot as plt\n",
    "import pickle\n",
    "from tqdm import tqdm\n",
    "import torch\n",
    "from linetimer import CodeTimer\n",
    "\n",
    "from utils import convert_ids_to_ordered\n",
    "\n",
    "tqdm.pandas()"
   ]
  },
  {
   "cell_type": "code",
   "execution_count": 3,
   "metadata": {},
   "outputs": [
    {
     "name": "stderr",
     "output_type": "stream",
     "text": [
      "/home/maxon/anaconda3/envs/torch_env/lib/python3.8/site-packages/IPython/core/interactiveshell.py:3441: DtypeWarning: Columns (4) have mixed types.Specify dtype option on import or set low_memory=False.\n",
      "  exec(code_obj, self.user_global_ns, self.user_ns)\n"
     ]
    }
   ],
   "source": [
    "aspects = pd.read_csv('data/aspects.csv').set_index(\"aspect_id\")\n",
    "features = pd.read_csv('data/features.csv').set_index('feature_id')\n",
    "organizations = pd.read_csv('data/organisations.csv').set_index('org_id')\n",
    "reviews = pd.read_csv('data/reviews.csv')\n",
    "rubrics = pd.read_csv('data/rubrics.csv').set_index('rubric_id')\n",
    "test_users = pd.read_csv('data/test_users.csv').set_index('user_id')\n",
    "users = pd.read_csv('data/users.csv').set_index('user_id')"
   ]
  },
  {
   "cell_type": "markdown",
   "metadata": {},
   "source": [
    "#### Preprocessing the reviews"
   ]
  },
  {
   "cell_type": "code",
   "execution_count": 31,
   "metadata": {},
   "outputs": [],
   "source": [
    "reviews = reviews[reviews.rating.notna()]"
   ]
  },
  {
   "cell_type": "code",
   "execution_count": 32,
   "metadata": {},
   "outputs": [],
   "source": [
    "reviews['rating'] = reviews['rating'].apply(int)"
   ]
  },
  {
   "cell_type": "code",
   "execution_count": 33,
   "metadata": {},
   "outputs": [],
   "source": [
    "users_ordered, orgs_ordered, reviews_ordered = convert_ids_to_ordered(users, organizations, reviews)"
   ]
  },
  {
   "cell_type": "code",
   "execution_count": 34,
   "metadata": {},
   "outputs": [],
   "source": [
    "validation_split_day = 1050\n",
    "train_reviews = reviews_ordered[reviews_ordered.ts < validation_split_day]\n",
    "test_reviews = reviews_ordered[reviews_ordered.ts >= validation_split_day]"
   ]
  },
  {
   "cell_type": "markdown",
   "metadata": {},
   "source": [
    "### Training\n",
    "P - latent vectors for clients  \n",
    "Q - latent vectors for organizations   \n",
    "R - ratings\n",
    "\n",
    "I minimize $||R - PQ^T||^2$ + Reg"
   ]
  },
  {
   "cell_type": "code",
   "execution_count": 149,
   "metadata": {},
   "outputs": [],
   "source": [
    "latent_size = 32\n",
    "Ps = torch.randn(len(users), latent_size) / latent_size\n",
    "Qs = torch.randn(len(organizations), latent_size) / latent_size"
   ]
  },
  {
   "cell_type": "code",
   "execution_count": 150,
   "metadata": {},
   "outputs": [],
   "source": [
    "nPs = np.random.rand(len(users), latent_size)\n",
    "nQs = np.random.rand(len(organizations), latent_size)"
   ]
  },
  {
   "cell_type": "code",
   "execution_count": 151,
   "metadata": {},
   "outputs": [
    {
     "name": "stdout",
     "output_type": "stream",
     "text": [
      "Loss of the simplest baseline: 1.4542272189284848\n"
     ]
    }
   ],
   "source": [
    "mean_loss = np.mean((test_reviews.rating - train_reviews.rating.mean())**2)\n",
    "print(f\"Loss of the simplest baseline: {mean_loss}\")"
   ]
  },
  {
   "cell_type": "code",
   "execution_count": 152,
   "metadata": {},
   "outputs": [],
   "source": [
    "reviews_array = reviews_ordered[['ordered_id_user', 'ordered_id_org', 'rating']].values"
   ]
  },
  {
   "cell_type": "code",
   "execution_count": 153,
   "metadata": {},
   "outputs": [
    {
     "name": "stdout",
     "output_type": "stream",
     "text": [
      "Epoch 0: Train loss  1.4542523521805304\n",
      "Epoch 100000: Train loss  13.123707902114448\n",
      "Epoch 200000: Train loss  17.46911574531724\n",
      "Epoch 300000: Train loss  19.002465330674973\n",
      "Epoch 400000: Train loss  19.577737173429327\n",
      "Epoch 500000: Train loss  19.81177523718375\n",
      "Epoch 600000: Train loss  19.890437245407117\n",
      "Epoch 700000: Train loss  19.903939041911837\n",
      "Epoch 800000: Train loss  19.88792984664689\n",
      "Epoch 900000: Train loss  19.905440696374995\n",
      "Epoch 1000000: Train loss  19.92968972063316\n",
      "Epoch 1100000: Train loss  19.93903185087784\n",
      "Epoch 1200000: Train loss  19.922197601272387\n",
      "Epoch 1300000: Train loss  19.92024778110268\n",
      "Epoch 1400000: Train loss  19.930022136128983\n",
      "Epoch 1500000: Train loss  19.937011952936093\n",
      "Epoch 1600000: Train loss  19.923739640349588\n",
      "Epoch 1700000: Train loss  19.901442790317798\n",
      "Epoch 1800000: Train loss  19.944825229189224\n",
      "Epoch 1900000: Train loss  19.98473263120452\n",
      "Epoch 2000000: Train loss  20.157615361932393\n",
      "Epoch 2100000: Train loss  20.011993736626163\n",
      "Epoch 2200000: Train loss  20.04658221965922\n",
      "Epoch 2300000: Train loss  20.238592885784453\n",
      "Epoch 2400000: Train loss  20.24317953169382\n",
      "Epoch 2500000: Train loss  20.131248469374327\n",
      "Epoch 2600000: Train loss  20.10079572226845\n",
      "Epoch 2700000: Train loss  20.149662429312677\n",
      "Epoch 2800000: Train loss  20.355742843858664\n",
      "Epoch 2900000: Train loss  20.077269009886873\n",
      "Epoch 3000000: Train loss  20.012187547689425\n",
      "Epoch 3100000: Train loss  19.946186495508297\n",
      "Epoch 3200000: Train loss  19.93742421503964\n",
      "Epoch 3300000: Train loss  19.931986106463626\n",
      "Epoch 3400000: Train loss  19.910922209330113\n",
      "Epoch 3500000: Train loss  19.9117553605387\n",
      "Epoch 3600000: Train loss  19.914685712011792\n",
      "Epoch 0: Train loss  19.90961827395113\n",
      "Epoch 100000: Train loss  19.911211604130344\n",
      "Epoch 200000: Train loss  19.964124384575612\n",
      "Epoch 300000: Train loss  19.918440965580466\n",
      "Epoch 400000: Train loss  19.912852831305372\n",
      "Epoch 500000: Train loss  19.933225710344075\n",
      "Epoch 600000: Train loss  19.933226231238887\n",
      "Epoch 700000: Train loss  19.917740359108425\n",
      "Epoch 800000: Train loss  19.89109275187797\n",
      "Epoch 900000: Train loss  19.90473459979595\n",
      "Epoch 1000000: Train loss  19.92748599277138\n",
      "Epoch 1100000: Train loss  19.936300675148935\n",
      "Epoch 1200000: Train loss  19.91917115098598\n",
      "Epoch 1300000: Train loss  19.91723465800126\n",
      "Epoch 1400000: Train loss  19.92680745773733\n",
      "Epoch 1500000: Train loss  19.93382954976619\n",
      "Epoch 1600000: Train loss  19.92058199678366\n",
      "Epoch 1700000: Train loss  19.898204750327363\n",
      "Epoch 1800000: Train loss  19.941629352241154\n",
      "Epoch 1900000: Train loss  19.981798600543033\n",
      "Epoch 2000000: Train loss  20.154250565689793\n",
      "Epoch 2100000: Train loss  20.00897619473726\n",
      "Epoch 2200000: Train loss  20.043432871654346\n",
      "Epoch 2300000: Train loss  20.233775248310696\n",
      "Epoch 2400000: Train loss  20.23734723275968\n",
      "Epoch 2500000: Train loss  20.12677008733043\n",
      "Epoch 2600000: Train loss  20.095450708923984\n",
      "Epoch 2700000: Train loss  20.144369926020385\n",
      "Epoch 2800000: Train loss  20.347582576118786\n",
      "Epoch 2900000: Train loss  20.071106126002217\n",
      "Epoch 3000000: Train loss  20.007450881206424\n",
      "Epoch 3100000: Train loss  19.941732929966758\n",
      "Epoch 3200000: Train loss  19.933173291598372\n",
      "Epoch 3300000: Train loss  19.927715379680553\n",
      "Epoch 3400000: Train loss  19.90625237663613\n",
      "Epoch 3500000: Train loss  19.90688643463509\n",
      "Epoch 3600000: Train loss  19.90974815774851\n",
      "Epoch 0: Train loss  19.904685853256964\n",
      "Epoch 100000: Train loss  19.905356876282134\n",
      "Epoch 200000: Train loss  19.957247646161832\n",
      "Epoch 300000: Train loss  19.911400567780575\n",
      "Epoch 400000: Train loss  19.905728573753823\n",
      "Epoch 500000: Train loss  19.926055933842186\n",
      "Epoch 600000: Train loss  19.925585340580103\n",
      "Epoch 700000: Train loss  19.90968044920786\n",
      "Epoch 800000: Train loss  19.88285025524792\n",
      "Epoch 900000: Train loss  19.89649551221184\n"
     ]
    },
    {
     "ename": "KeyboardInterrupt",
     "evalue": "",
     "output_type": "error",
     "traceback": [
      "\u001b[0;31m---------------------------------------------------------------------------\u001b[0m",
      "\u001b[0;31mKeyboardInterrupt\u001b[0m                         Traceback (most recent call last)",
      "\u001b[0;32m/tmp/ipykernel_68615/433613441.py\u001b[0m in \u001b[0;36m<module>\u001b[0;34m\u001b[0m\n\u001b[1;32m     10\u001b[0m         \u001b[0mQs\u001b[0m\u001b[0;34m[\u001b[0m\u001b[0morg_id\u001b[0m\u001b[0;34m]\u001b[0m \u001b[0;34m-=\u001b[0m \u001b[0mlearning_rate\u001b[0m \u001b[0;34m*\u001b[0m \u001b[0merror\u001b[0m \u001b[0;34m*\u001b[0m \u001b[0mPs\u001b[0m\u001b[0;34m[\u001b[0m\u001b[0muser_id\u001b[0m\u001b[0;34m]\u001b[0m\u001b[0;34m\u001b[0m\u001b[0;34m\u001b[0m\u001b[0m\n\u001b[1;32m     11\u001b[0m \u001b[0;34m\u001b[0m\u001b[0m\n\u001b[0;32m---> 12\u001b[0;31m         \u001b[0mloss\u001b[0m \u001b[0;34m=\u001b[0m \u001b[0merror\u001b[0m \u001b[0;34m**\u001b[0m \u001b[0;36m2\u001b[0m\u001b[0;34m\u001b[0m\u001b[0;34m\u001b[0m\u001b[0m\n\u001b[0m\u001b[1;32m     13\u001b[0m         \u001b[0maverage_loss\u001b[0m \u001b[0;34m=\u001b[0m \u001b[0;36m0.99999\u001b[0m \u001b[0;34m*\u001b[0m \u001b[0maverage_loss\u001b[0m \u001b[0;34m+\u001b[0m \u001b[0;36m0.00001\u001b[0m \u001b[0;34m*\u001b[0m \u001b[0mloss\u001b[0m\u001b[0;34m.\u001b[0m\u001b[0mitem\u001b[0m\u001b[0;34m(\u001b[0m\u001b[0;34m)\u001b[0m\u001b[0;34m\u001b[0m\u001b[0;34m\u001b[0m\u001b[0m\n\u001b[1;32m     14\u001b[0m         \u001b[0;32mif\u001b[0m \u001b[0mi\u001b[0m \u001b[0;34m%\u001b[0m \u001b[0;36m100000\u001b[0m \u001b[0;34m==\u001b[0m \u001b[0;36m0\u001b[0m\u001b[0;34m:\u001b[0m\u001b[0;34m\u001b[0m\u001b[0;34m\u001b[0m\u001b[0m\n",
      "\u001b[0;31mKeyboardInterrupt\u001b[0m: "
     ]
    }
   ],
   "source": [
    "learning_rate = 0.001\n",
    "average_loss = mean_loss\n",
    "while True:\n",
    "    for i, review in enumerate(reviews_array):\n",
    "        user_id, org_id, true_rating = review\n",
    "\n",
    "        pred_rating = Ps[user_id].dot(Qs[org_id])\n",
    "        error = pred_rating - true_rating\n",
    "        Ps[user_id] -= learning_rate * error * Qs[org_id]\n",
    "        Qs[org_id] -= learning_rate * error * Ps[user_id]\n",
    "\n",
    "        loss = error ** 2\n",
    "        average_loss = 0.99999 * average_loss + 0.00001 * loss.item()\n",
    "        if i % 100000 == 0:\n",
    "            print(f\"Epoch {i}: Train loss \", average_loss)"
   ]
  }
 ],
 "metadata": {
  "kernelspec": {
   "display_name": "torch_env",
   "language": "python",
   "name": "torch_env"
  },
  "language_info": {
   "codemirror_mode": {
    "name": "ipython",
    "version": 3
   },
   "file_extension": ".py",
   "mimetype": "text/x-python",
   "name": "python",
   "nbconvert_exporter": "python",
   "pygments_lexer": "ipython3",
   "version": "3.8.11"
  }
 },
 "nbformat": 4,
 "nbformat_minor": 4
}
