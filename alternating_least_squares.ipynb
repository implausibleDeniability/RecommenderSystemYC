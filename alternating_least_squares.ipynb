{
 "cells": [
  {
   "cell_type": "code",
   "execution_count": 1,
   "metadata": {},
   "outputs": [],
   "source": [
    "%config Completer.use_jedi = False"
   ]
  },
  {
   "cell_type": "code",
   "execution_count": 2,
   "metadata": {},
   "outputs": [],
   "source": [
    "import os\n",
    "import sys\n",
    "import time\n",
    "import pandas as pd\n",
    "import numpy as np\n",
    "import scipy\n",
    "from matplotlib import pyplot as plt\n",
    "import pickle\n",
    "from tqdm import tqdm\n",
    "from linetimer import CodeTimer\n",
    "\n",
    "from utils import convert_ids_to_ordered, MovingAverage\n",
    "\n",
    "tqdm.pandas()"
   ]
  },
  {
   "cell_type": "code",
   "execution_count": 3,
   "metadata": {},
   "outputs": [
    {
     "name": "stderr",
     "output_type": "stream",
     "text": [
      "/home/maxon/anaconda3/envs/core_ds/lib/python3.8/site-packages/IPython/core/interactiveshell.py:3441: DtypeWarning: Columns (4) have mixed types.Specify dtype option on import or set low_memory=False.\n",
      "  exec(code_obj, self.user_global_ns, self.user_ns)\n"
     ]
    }
   ],
   "source": [
    "aspects = pd.read_csv('data/aspects.csv').set_index(\"aspect_id\")\n",
    "features = pd.read_csv('data/features.csv').set_index('feature_id')\n",
    "organizations = pd.read_csv('data/organisations.csv').set_index('org_id')\n",
    "reviews = pd.read_csv('data/reviews.csv')\n",
    "rubrics = pd.read_csv('data/rubrics.csv').set_index('rubric_id')\n",
    "test_users = pd.read_csv('data/test_users.csv').set_index('user_id')\n",
    "users = pd.read_csv('data/users.csv').set_index('user_id')"
   ]
  },
  {
   "cell_type": "markdown",
   "metadata": {},
   "source": [
    "#### Preprocessing the reviews"
   ]
  },
  {
   "cell_type": "code",
   "execution_count": 4,
   "metadata": {},
   "outputs": [],
   "source": [
    "reviews = reviews[reviews.rating.notna()]"
   ]
  },
  {
   "cell_type": "code",
   "execution_count": 5,
   "metadata": {},
   "outputs": [],
   "source": [
    "reviews['rating'] = reviews['rating'].apply(int)"
   ]
  },
  {
   "cell_type": "code",
   "execution_count": 6,
   "metadata": {},
   "outputs": [],
   "source": [
    "users_ordered, orgs_ordered, reviews_ordered = convert_ids_to_ordered(users, organizations, reviews)"
   ]
  },
  {
   "cell_type": "code",
   "execution_count": 7,
   "metadata": {},
   "outputs": [],
   "source": [
    "validation_split_day = 1050\n",
    "train_reviews = reviews_ordered[reviews_ordered.ts < validation_split_day]\n",
    "test_reviews = reviews_ordered[reviews_ordered.ts >= validation_split_day]"
   ]
  },
  {
   "cell_type": "markdown",
   "metadata": {},
   "source": [
    "### Training\n",
    "P - latent vectors for clients  \n",
    "Q - latent vectors for organizations   \n",
    "R - ratings\n",
    "\n",
    "I minimize $||R - PQ^T||^2$ + Reg"
   ]
  },
  {
   "cell_type": "code",
   "execution_count": 8,
   "metadata": {},
   "outputs": [],
   "source": [
    "latent_size = 16\n",
    "Ps = np.random.randn(len(users), latent_size) / latent_size + 1\n",
    "Qs = np.random.randn(len(organizations), latent_size) / latent_size + 1"
   ]
  },
  {
   "cell_type": "code",
   "execution_count": 9,
   "metadata": {},
   "outputs": [
    {
     "name": "stdout",
     "output_type": "stream",
     "text": [
      "Loss of the simplest baseline: 1.4542272189284848\n"
     ]
    }
   ],
   "source": [
    "mean_loss = np.mean((test_reviews.rating - train_reviews.rating.mean())**2)\n",
    "print(f\"Loss of the simplest baseline: {mean_loss}\")"
   ]
  },
  {
   "cell_type": "code",
   "execution_count": 10,
   "metadata": {},
   "outputs": [],
   "source": [
    "train_reviews_array = train_reviews[['ordered_id_user', 'ordered_id_org', 'rating']].values\n",
    "test_reviews_array = test_reviews[['ordered_id_user', 'ordered_id_org', 'rating']].values"
   ]
  },
  {
   "cell_type": "code",
   "execution_count": 14,
   "metadata": {},
   "outputs": [],
   "source": [
    "def test_model(\n",
    "        Ps: np.ndarray,\n",
    "        Qs: np.ndarray,\n",
    "    ) -> float:\n",
    "    \n",
    "    losses = []\n",
    "    for i, review in enumerate(test_reviews_array):\n",
    "        user_id, org_id, true_rating = review\n",
    "        pred_rating = Ps[user_id].dot(Qs[org_id])\n",
    "        error = pred_rating - true_rating\n",
    "        loss = error ** 2\n",
    "        losses.append(loss)\n",
    "    return np.mean(losses)"
   ]
  },
  {
   "cell_type": "code",
   "execution_count": 18,
   "metadata": {},
   "outputs": [],
   "source": [
    "def train_model(\n",
    "        Ps: np.ndarray,\n",
    "        Qs: np.ndarray,\n",
    "        learning_rate: float = 0.01,\n",
    "        epochs: int = 7,\n",
    "        log_every: int = 1000000,\n",
    "    ) -> float:\n",
    "    \n",
    "    average_loss = MovingAverage(1e-6, 20)\n",
    "    for epoch in range(epochs):\n",
    "        for i, review in enumerate(train_reviews_array):\n",
    "            user_id, org_id, true_rating = review\n",
    "\n",
    "            pred_rating = Ps[user_id].dot(Qs[org_id])\n",
    "            error = pred_rating - true_rating\n",
    "            Ps_grad = learning_rate * error * Qs[org_id]\n",
    "            Qs_grad = learning_rate * error * Ps[user_id]\n",
    "\n",
    "            Ps[user_id] -= Ps_grad\n",
    "            Qs[org_id] -= Qs_grad\n",
    "\n",
    "            Qs[org_id][Qs[org_id] < 0] = 0.01\n",
    "\n",
    "            loss = error ** 2\n",
    "            average_loss.add(loss)\n",
    "            if i % log_every == 0:\n",
    "                print(f\"Iteration {i:07d}: Train loss\", average_loss)\n",
    "        print()\n",
    "        print(f\"Test loss: {test_model(Ps, Qs)}\")"
   ]
  },
  {
   "cell_type": "code",
   "execution_count": 19,
   "metadata": {},
   "outputs": [
    {
     "name": "stdout",
     "output_type": "stream",
     "text": [
      "Iteration 0000000: Train loss 20.000016212855694\n",
      "Iteration 1000000: Train loss 9.482846645549255\n",
      "Iteration 2000000: Train loss 4.511358547045575\n",
      "Iteration 3000000: Train loss 2.671864147129732\n",
      "\n",
      "Test loss: 2.645540458988994\n",
      "Iteration 0000000: Train loss 2.6354127447499702\n",
      "Iteration 1000000: Train loss 1.8690497784022628\n",
      "Iteration 2000000: Train loss 1.3872248297382983\n",
      "Iteration 3000000: Train loss 1.2924014166700613\n",
      "\n",
      "Test loss: 2.3965364825833886\n",
      "Iteration 0000000: Train loss 1.2947222716774913\n",
      "Iteration 1000000: Train loss 1.2461426394380593\n",
      "Iteration 2000000: Train loss 1.0709216803305397\n",
      "Iteration 3000000: Train loss 1.087981259474203\n",
      "\n",
      "Test loss: 2.302750856876137\n",
      "Iteration 0000000: Train loss 1.092509638116143\n",
      "Iteration 1000000: Train loss 1.1066394454478319\n",
      "Iteration 2000000: Train loss 0.9712943458763917\n",
      "Iteration 3000000: Train loss 0.998684494334877\n",
      "\n",
      "Test loss: 2.253055170294532\n",
      "Iteration 0000000: Train loss 1.0031913811285154\n",
      "Iteration 1000000: Train loss 1.0297397743461776\n",
      "Iteration 2000000: Train loss 0.9091774236257246\n",
      "Iteration 3000000: Train loss 0.9377337386126334\n",
      "\n",
      "Test loss: 2.222621806903422\n",
      "Iteration 0000000: Train loss 0.9420456956649785\n",
      "Iteration 1000000: Train loss 0.972861035251646\n",
      "Iteration 2000000: Train loss 0.8615300130707247\n",
      "Iteration 3000000: Train loss 0.8895123355767561\n",
      "\n",
      "Test loss: 2.202564529272062\n",
      "Iteration 0000000: Train loss 0.8936095826315799\n",
      "Iteration 1000000: Train loss 0.9258212302206869\n",
      "Iteration 2000000: Train loss 0.8214709408283601\n",
      "Iteration 3000000: Train loss 0.8482896013003622\n",
      "\n",
      "Test loss: 2.188918396759172\n"
     ]
    }
   ],
   "source": [
    "latent_size = 8\n",
    "Ps = np.random.randn(len(users), latent_size) / latent_size + 1\n",
    "Qs = np.random.randn(len(organizations), latent_size) / latent_size + 1\n",
    "train_model(Ps, Qs)"
   ]
  }
 ],
 "metadata": {
  "kernelspec": {
   "display_name": "core_ds",
   "language": "python",
   "name": "core_ds"
  },
  "language_info": {
   "codemirror_mode": {
    "name": "ipython",
    "version": 3
   },
   "file_extension": ".py",
   "mimetype": "text/x-python",
   "name": "python",
   "nbconvert_exporter": "python",
   "pygments_lexer": "ipython3",
   "version": "3.8.11"
  }
 },
 "nbformat": 4,
 "nbformat_minor": 4
}
