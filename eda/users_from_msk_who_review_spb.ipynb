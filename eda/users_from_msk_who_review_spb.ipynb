{
 "cells": [
  {
   "cell_type": "code",
   "execution_count": 1,
   "metadata": {},
   "outputs": [],
   "source": [
    "%config Completer.use_jedi = False"
   ]
  },
  {
   "cell_type": "code",
   "execution_count": 2,
   "metadata": {},
   "outputs": [],
   "source": [
    "import os\n",
    "import sys\n",
    "import time\n",
    "import pandas as pd\n",
    "import numpy as np\n",
    "import scipy\n",
    "from matplotlib import pyplot as plt\n",
    "import pickle\n",
    "from tqdm import tqdm\n",
    "\n",
    "tqdm.pandas()"
   ]
  },
  {
   "cell_type": "code",
   "execution_count": 8,
   "metadata": {},
   "outputs": [
    {
     "name": "stderr",
     "output_type": "stream",
     "text": [
      "/home/maxon/anaconda3/envs/core_ds/lib/python3.8/site-packages/IPython/core/interactiveshell.py:3441: DtypeWarning: Columns (4) have mixed types.Specify dtype option on import or set low_memory=False.\n",
      "  exec(code_obj, self.user_global_ns, self.user_ns)\n"
     ]
    }
   ],
   "source": [
    "aspects = pd.read_csv('data/aspects.csv').set_index(\"aspect_id\")\n",
    "features = pd.read_csv('data/features.csv').set_index('feature_id')\n",
    "organizations = pd.read_csv('data/organisations.csv').set_index('org_id')\n",
    "reviews = pd.read_csv('data/reviews.csv')\n",
    "rubrics = pd.read_csv('data/rubrics.csv').set_index('rubric_id')\n",
    "test_users = pd.read_csv('data/test_users.csv')\n",
    "users = pd.read_csv('data/users.csv').set_index('user_id')"
   ]
  },
  {
   "cell_type": "code",
   "execution_count": 6,
   "metadata": {},
   "outputs": [
    {
     "data": {
      "text/html": [
       "<div>\n",
       "<style scoped>\n",
       "    .dataframe tbody tr th:only-of-type {\n",
       "        vertical-align: middle;\n",
       "    }\n",
       "\n",
       "    .dataframe tbody tr th {\n",
       "        vertical-align: top;\n",
       "    }\n",
       "\n",
       "    .dataframe thead th {\n",
       "        text-align: right;\n",
       "    }\n",
       "</style>\n",
       "<table border=\"1\" class=\"dataframe\">\n",
       "  <thead>\n",
       "    <tr style=\"text-align: right;\">\n",
       "      <th></th>\n",
       "      <th>city</th>\n",
       "      <th>average_bill</th>\n",
       "      <th>rating</th>\n",
       "      <th>rubrics_id</th>\n",
       "      <th>features_id</th>\n",
       "    </tr>\n",
       "    <tr>\n",
       "      <th>org_id</th>\n",
       "      <th></th>\n",
       "      <th></th>\n",
       "      <th></th>\n",
       "      <th></th>\n",
       "      <th></th>\n",
       "    </tr>\n",
       "  </thead>\n",
       "  <tbody>\n",
       "    <tr>\n",
       "      <th>16848414477362211020</th>\n",
       "      <td>spb</td>\n",
       "      <td>1000.0</td>\n",
       "      <td>4.479702</td>\n",
       "      <td>30776 31375</td>\n",
       "      <td>1018 1509 11177 11617 11629 11704 11867 20422 ...</td>\n",
       "    </tr>\n",
       "    <tr>\n",
       "      <th>1430604733320164116</th>\n",
       "      <td>spb</td>\n",
       "      <td>1000.0</td>\n",
       "      <td>4.514509</td>\n",
       "      <td>30776 30770</td>\n",
       "      <td>246 1018 11617 11629 11704 11867 20422 21247 3...</td>\n",
       "    </tr>\n",
       "    <tr>\n",
       "      <th>9880309324224147401</th>\n",
       "      <td>spb</td>\n",
       "      <td>1000.0</td>\n",
       "      <td>3.884615</td>\n",
       "      <td>30770 30774</td>\n",
       "      <td>1018 11177 11617 11629 11704 11867 20422 21247...</td>\n",
       "    </tr>\n",
       "    <tr>\n",
       "      <th>5617879987171966456</th>\n",
       "      <td>spb</td>\n",
       "      <td>1000.0</td>\n",
       "      <td>NaN</td>\n",
       "      <td>30774 30775</td>\n",
       "      <td>1018 1509 10596 11177 11629 11634 11704 11867 ...</td>\n",
       "    </tr>\n",
       "    <tr>\n",
       "      <th>5241461680470612149</th>\n",
       "      <td>spb</td>\n",
       "      <td>1000.0</td>\n",
       "      <td>4.532468</td>\n",
       "      <td>30776</td>\n",
       "      <td>1018 11177 11617 11629 11704 11867 20422 21247...</td>\n",
       "    </tr>\n",
       "    <tr>\n",
       "      <th>...</th>\n",
       "      <td>...</td>\n",
       "      <td>...</td>\n",
       "      <td>...</td>\n",
       "      <td>...</td>\n",
       "      <td>...</td>\n",
       "    </tr>\n",
       "    <tr>\n",
       "      <th>6886326702594574487</th>\n",
       "      <td>spb</td>\n",
       "      <td>1000.0</td>\n",
       "      <td>4.504259</td>\n",
       "      <td>30776 30774 30770</td>\n",
       "      <td>246 1018 1509 11629 11704 20422 21247 20207955...</td>\n",
       "    </tr>\n",
       "    <tr>\n",
       "      <th>5569256238203823632</th>\n",
       "      <td>spb</td>\n",
       "      <td>1000.0</td>\n",
       "      <td>4.519685</td>\n",
       "      <td>30774</td>\n",
       "      <td>1018 11177 11617 11629 11704 11867 20422 27346...</td>\n",
       "    </tr>\n",
       "    <tr>\n",
       "      <th>1532407218667788426</th>\n",
       "      <td>spb</td>\n",
       "      <td>1000.0</td>\n",
       "      <td>4.416576</td>\n",
       "      <td>30776 31375</td>\n",
       "      <td>1018 1509 11177 11617 11629 11704 11867 20422 ...</td>\n",
       "    </tr>\n",
       "    <tr>\n",
       "      <th>826906323277325942</th>\n",
       "      <td>spb</td>\n",
       "      <td>1000.0</td>\n",
       "      <td>4.384032</td>\n",
       "      <td>31375 30776</td>\n",
       "      <td>1018 1509 11177 11617 11629 11704 11867 20422 ...</td>\n",
       "    </tr>\n",
       "    <tr>\n",
       "      <th>13095405432981568081</th>\n",
       "      <td>spb</td>\n",
       "      <td>1000.0</td>\n",
       "      <td>4.070175</td>\n",
       "      <td>30776</td>\n",
       "      <td>1018 11617 11629 11704 11867 20422 273469383 3...</td>\n",
       "    </tr>\n",
       "  </tbody>\n",
       "</table>\n",
       "<p>66405 rows × 5 columns</p>\n",
       "</div>"
      ],
      "text/plain": [
       "                     city  average_bill    rating         rubrics_id  \\\n",
       "org_id                                                                 \n",
       "16848414477362211020  spb        1000.0  4.479702        30776 31375   \n",
       "1430604733320164116   spb        1000.0  4.514509        30776 30770   \n",
       "9880309324224147401   spb        1000.0  3.884615        30770 30774   \n",
       "5617879987171966456   spb        1000.0       NaN        30774 30775   \n",
       "5241461680470612149   spb        1000.0  4.532468              30776   \n",
       "...                   ...           ...       ...                ...   \n",
       "6886326702594574487   spb        1000.0  4.504259  30776 30774 30770   \n",
       "5569256238203823632   spb        1000.0  4.519685              30774   \n",
       "1532407218667788426   spb        1000.0  4.416576        30776 31375   \n",
       "826906323277325942    spb        1000.0  4.384032        31375 30776   \n",
       "13095405432981568081  spb        1000.0  4.070175              30776   \n",
       "\n",
       "                                                            features_id  \n",
       "org_id                                                                   \n",
       "16848414477362211020  1018 1509 11177 11617 11629 11704 11867 20422 ...  \n",
       "1430604733320164116   246 1018 11617 11629 11704 11867 20422 21247 3...  \n",
       "9880309324224147401   1018 11177 11617 11629 11704 11867 20422 21247...  \n",
       "5617879987171966456   1018 1509 10596 11177 11629 11634 11704 11867 ...  \n",
       "5241461680470612149   1018 11177 11617 11629 11704 11867 20422 21247...  \n",
       "...                                                                 ...  \n",
       "6886326702594574487   246 1018 1509 11629 11704 20422 21247 20207955...  \n",
       "5569256238203823632   1018 11177 11617 11629 11704 11867 20422 27346...  \n",
       "1532407218667788426   1018 1509 11177 11617 11629 11704 11867 20422 ...  \n",
       "826906323277325942    1018 1509 11177 11617 11629 11704 11867 20422 ...  \n",
       "13095405432981568081  1018 11617 11629 11704 11867 20422 273469383 3...  \n",
       "\n",
       "[66405 rows x 5 columns]"
      ]
     },
     "execution_count": 6,
     "metadata": {},
     "output_type": "execute_result"
    }
   ],
   "source": [
    "organizations[]"
   ]
  },
  {
   "cell_type": "code",
   "execution_count": 24,
   "metadata": {},
   "outputs": [],
   "source": [
    "reviews2 = reviews.join(users, on='user_id')"
   ]
  },
  {
   "cell_type": "code",
   "execution_count": 28,
   "metadata": {},
   "outputs": [],
   "source": [
    "reviews3 = reviews2.join(organizations.city, on='org_id', lsuffix='_user', rsuffix='_org')"
   ]
  },
  {
   "cell_type": "code",
   "execution_count": 35,
   "metadata": {},
   "outputs": [
    {
     "data": {
      "text/plain": [
       "<AxesSubplot:xlabel='city_user,city_org'>"
      ]
     },
     "execution_count": 35,
     "metadata": {},
     "output_type": "execute_result"
    },
    {
     "data": {
      "image/png": "[encoded data removed]",
      "text/plain": [
       "<Figure size 432x288 with 1 Axes>"
      ]
     },
     "metadata": {
      "needs_background": "light"
     },
     "output_type": "display_data"
    }
   ],
   "source": [
    "reviews3.groupby(['city_user', 'city_org']).count()['user_id'].plot.bar()"
   ]
  }
 ],
 "metadata": {
  "kernelspec": {
   "display_name": "core_ds",
   "language": "python",
   "name": "core_ds"
  },
  "language_info": {
   "codemirror_mode": {
    "name": "ipython",
    "version": 3
   },
   "file_extension": ".py",
   "mimetype": "text/x-python",
   "name": "python",
   "nbconvert_exporter": "python",
   "pygments_lexer": "ipython3",
   "version": "3.8.11"
  }
 },
 "nbformat": 4,
 "nbformat_minor": 4
}
