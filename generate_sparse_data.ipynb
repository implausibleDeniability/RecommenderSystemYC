{
 "cells": [
  {
   "cell_type": "code",
   "execution_count": 21,
   "metadata": {},
   "outputs": [],
   "source": [
    "%config Completer.use_jedi = False"
   ]
  },
  {
   "cell_type": "code",
   "execution_count": 22,
   "metadata": {},
   "outputs": [],
   "source": [
    "import os\n",
    "import sys\n",
    "import time\n",
    "import pandas as pd\n",
    "import numpy as np\n",
    "import scipy\n",
    "from matplotlib import pyplot as plt\n",
    "import pickle\n",
    "from tqdm import tqdm\n",
    "import datetime\n",
    "\n",
    "from scripts.multiple_logging import setup_logger\n",
    "from scripts.utils import convert_ids_to_ordered, MovingAverage\n",
    "from scripts.mnap import compute_mnap\n",
    "tqdm.pandas()"
   ]
  },
  {
   "cell_type": "code",
   "execution_count": 30,
   "metadata": {},
   "outputs": [
    {
     "name": "stderr",
     "output_type": "stream",
     "text": [
      "/miniconda/lib/python3.8/site-packages/IPython/core/interactiveshell.py:3444: DtypeWarning: Columns (4) have mixed types.Specify dtype option on import or set low_memory=False.\n",
      "  exec(code_obj, self.user_global_ns, self.user_ns)\n"
     ]
    }
   ],
   "source": [
    "aspects = pd.read_csv('data/aspects.csv').set_index(\"aspect_id\")\n",
    "features = pd.read_csv('data/features.csv').set_index('feature_id')\n",
    "organizations = pd.read_csv('data/organisations.csv').set_index('org_id')\n",
    "reviews = pd.read_csv('data/reviews.csv')\n",
    "rubrics = pd.read_csv('data/rubrics.csv').set_index('rubric_id')\n",
    "test_users = pd.read_csv('data/test_users.csv').set_index('user_id')\n",
    "users = pd.read_csv('data/users.csv').set_index('user_id')"
   ]
  },
  {
   "cell_type": "markdown",
   "metadata": {},
   "source": [
    "#### Preprocessing the reviews"
   ]
  },
  {
   "cell_type": "code",
   "execution_count": 29,
   "metadata": {},
   "outputs": [
    {
     "data": {
      "text/html": [
       "<div>\n",
       "<style scoped>\n",
       "    .dataframe tbody tr th:only-of-type {\n",
       "        vertical-align: middle;\n",
       "    }\n",
       "\n",
       "    .dataframe tbody tr th {\n",
       "        vertical-align: top;\n",
       "    }\n",
       "\n",
       "    .dataframe thead th {\n",
       "        text-align: right;\n",
       "    }\n",
       "</style>\n",
       "<table border=\"1\" class=\"dataframe\">\n",
       "  <thead>\n",
       "    <tr style=\"text-align: right;\">\n",
       "      <th></th>\n",
       "      <th>user_id</th>\n",
       "      <th>org_id</th>\n",
       "      <th>rating</th>\n",
       "      <th>ts</th>\n",
       "      <th>aspects</th>\n",
       "    </tr>\n",
       "  </thead>\n",
       "  <tbody>\n",
       "    <tr>\n",
       "      <th>0</th>\n",
       "      <td>16998268288908323644</td>\n",
       "      <td>7184895086928047809</td>\n",
       "      <td>2</td>\n",
       "      <td>105</td>\n",
       "      <td>NaN</td>\n",
       "    </tr>\n",
       "    <tr>\n",
       "      <th>1</th>\n",
       "      <td>12235230637700316274</td>\n",
       "      <td>11420440322893824394</td>\n",
       "      <td>3</td>\n",
       "      <td>890</td>\n",
       "      <td>17</td>\n",
       "    </tr>\n",
       "    <tr>\n",
       "      <th>2</th>\n",
       "      <td>2706795762761414590</td>\n",
       "      <td>11993738663105455885</td>\n",
       "      <td>3</td>\n",
       "      <td>936</td>\n",
       "      <td>NaN</td>\n",
       "    </tr>\n",
       "    <tr>\n",
       "      <th>3</th>\n",
       "      <td>2522006254806484630</td>\n",
       "      <td>18200844491365025705</td>\n",
       "      <td>3</td>\n",
       "      <td>1048</td>\n",
       "      <td>6</td>\n",
       "    </tr>\n",
       "    <tr>\n",
       "      <th>4</th>\n",
       "      <td>2035736119522953868</td>\n",
       "      <td>7143808482480365209</td>\n",
       "      <td>5</td>\n",
       "      <td>1185</td>\n",
       "      <td>NaN</td>\n",
       "    </tr>\n",
       "    <tr>\n",
       "      <th>...</th>\n",
       "      <td>...</td>\n",
       "      <td>...</td>\n",
       "      <td>...</td>\n",
       "      <td>...</td>\n",
       "      <td>...</td>\n",
       "    </tr>\n",
       "    <tr>\n",
       "      <th>3640830</th>\n",
       "      <td>7482061050271556596</td>\n",
       "      <td>1018922217068317904</td>\n",
       "      <td>2</td>\n",
       "      <td>378</td>\n",
       "      <td>NaN</td>\n",
       "    </tr>\n",
       "    <tr>\n",
       "      <th>3640831</th>\n",
       "      <td>7482061050271556596</td>\n",
       "      <td>1018922217068317904</td>\n",
       "      <td>2</td>\n",
       "      <td>378</td>\n",
       "      <td>NaN</td>\n",
       "    </tr>\n",
       "    <tr>\n",
       "      <th>3640832</th>\n",
       "      <td>8928726821194342760</td>\n",
       "      <td>12046097390037935713</td>\n",
       "      <td>4</td>\n",
       "      <td>424</td>\n",
       "      <td>NaN</td>\n",
       "    </tr>\n",
       "    <tr>\n",
       "      <th>3640833</th>\n",
       "      <td>13307262877386644281</td>\n",
       "      <td>4362229515870954070</td>\n",
       "      <td>5</td>\n",
       "      <td>618</td>\n",
       "      <td>NaN</td>\n",
       "    </tr>\n",
       "    <tr>\n",
       "      <th>3640834</th>\n",
       "      <td>11834318066556156799</td>\n",
       "      <td>12046097390037935713</td>\n",
       "      <td>5</td>\n",
       "      <td>312</td>\n",
       "      <td>NaN</td>\n",
       "    </tr>\n",
       "  </tbody>\n",
       "</table>\n",
       "<p>3639564 rows × 5 columns</p>\n",
       "</div>"
      ],
      "text/plain": [
       "                      user_id                org_id  rating    ts aspects\n",
       "0        16998268288908323644   7184895086928047809       2   105     NaN\n",
       "1        12235230637700316274  11420440322893824394       3   890      17\n",
       "2         2706795762761414590  11993738663105455885       3   936     NaN\n",
       "3         2522006254806484630  18200844491365025705       3  1048       6\n",
       "4         2035736119522953868   7143808482480365209       5  1185     NaN\n",
       "...                       ...                   ...     ...   ...     ...\n",
       "3640830   7482061050271556596   1018922217068317904       2   378     NaN\n",
       "3640831   7482061050271556596   1018922217068317904       2   378     NaN\n",
       "3640832   8928726821194342760  12046097390037935713       4   424     NaN\n",
       "3640833  13307262877386644281   4362229515870954070       5   618     NaN\n",
       "3640834  11834318066556156799  12046097390037935713       5   312     NaN\n",
       "\n",
       "[3639564 rows x 5 columns]"
      ]
     },
     "execution_count": 29,
     "metadata": {},
     "output_type": "execute_result"
    }
   ],
   "source": [
    "reviews[reviews.rating.notna()]"
   ]
  },
  {
   "cell_type": "code",
   "execution_count": 28,
   "metadata": {},
   "outputs": [
    {
     "data": {
      "text/html": [
       "<div>\n",
       "<style scoped>\n",
       "    .dataframe tbody tr th:only-of-type {\n",
       "        vertical-align: middle;\n",
       "    }\n",
       "\n",
       "    .dataframe tbody tr th {\n",
       "        vertical-align: top;\n",
       "    }\n",
       "\n",
       "    .dataframe thead th {\n",
       "        text-align: right;\n",
       "    }\n",
       "</style>\n",
       "<table border=\"1\" class=\"dataframe\">\n",
       "  <thead>\n",
       "    <tr style=\"text-align: right;\">\n",
       "      <th></th>\n",
       "      <th>user_id</th>\n",
       "      <th>org_id</th>\n",
       "      <th>rating</th>\n",
       "      <th>ts</th>\n",
       "      <th>aspects</th>\n",
       "    </tr>\n",
       "  </thead>\n",
       "  <tbody>\n",
       "    <tr>\n",
       "      <th>0</th>\n",
       "      <td>16998268288908323644</td>\n",
       "      <td>7184895086928047809</td>\n",
       "      <td>2</td>\n",
       "      <td>105</td>\n",
       "      <td>NaN</td>\n",
       "    </tr>\n",
       "    <tr>\n",
       "      <th>1</th>\n",
       "      <td>12235230637700316274</td>\n",
       "      <td>11420440322893824394</td>\n",
       "      <td>3</td>\n",
       "      <td>890</td>\n",
       "      <td>17</td>\n",
       "    </tr>\n",
       "    <tr>\n",
       "      <th>2</th>\n",
       "      <td>2706795762761414590</td>\n",
       "      <td>11993738663105455885</td>\n",
       "      <td>3</td>\n",
       "      <td>936</td>\n",
       "      <td>NaN</td>\n",
       "    </tr>\n",
       "    <tr>\n",
       "      <th>3</th>\n",
       "      <td>2522006254806484630</td>\n",
       "      <td>18200844491365025705</td>\n",
       "      <td>3</td>\n",
       "      <td>1048</td>\n",
       "      <td>6</td>\n",
       "    </tr>\n",
       "    <tr>\n",
       "      <th>4</th>\n",
       "      <td>2035736119522953868</td>\n",
       "      <td>7143808482480365209</td>\n",
       "      <td>5</td>\n",
       "      <td>1185</td>\n",
       "      <td>NaN</td>\n",
       "    </tr>\n",
       "    <tr>\n",
       "      <th>...</th>\n",
       "      <td>...</td>\n",
       "      <td>...</td>\n",
       "      <td>...</td>\n",
       "      <td>...</td>\n",
       "      <td>...</td>\n",
       "    </tr>\n",
       "    <tr>\n",
       "      <th>3640830</th>\n",
       "      <td>7482061050271556596</td>\n",
       "      <td>1018922217068317904</td>\n",
       "      <td>2</td>\n",
       "      <td>378</td>\n",
       "      <td>NaN</td>\n",
       "    </tr>\n",
       "    <tr>\n",
       "      <th>3640831</th>\n",
       "      <td>7482061050271556596</td>\n",
       "      <td>1018922217068317904</td>\n",
       "      <td>2</td>\n",
       "      <td>378</td>\n",
       "      <td>NaN</td>\n",
       "    </tr>\n",
       "    <tr>\n",
       "      <th>3640832</th>\n",
       "      <td>8928726821194342760</td>\n",
       "      <td>12046097390037935713</td>\n",
       "      <td>4</td>\n",
       "      <td>424</td>\n",
       "      <td>NaN</td>\n",
       "    </tr>\n",
       "    <tr>\n",
       "      <th>3640833</th>\n",
       "      <td>13307262877386644281</td>\n",
       "      <td>4362229515870954070</td>\n",
       "      <td>5</td>\n",
       "      <td>618</td>\n",
       "      <td>NaN</td>\n",
       "    </tr>\n",
       "    <tr>\n",
       "      <th>3640834</th>\n",
       "      <td>11834318066556156799</td>\n",
       "      <td>12046097390037935713</td>\n",
       "      <td>5</td>\n",
       "      <td>312</td>\n",
       "      <td>NaN</td>\n",
       "    </tr>\n",
       "  </tbody>\n",
       "</table>\n",
       "<p>3639564 rows × 5 columns</p>\n",
       "</div>"
      ],
      "text/plain": [
       "                      user_id                org_id  rating    ts aspects\n",
       "0        16998268288908323644   7184895086928047809       2   105     NaN\n",
       "1        12235230637700316274  11420440322893824394       3   890      17\n",
       "2         2706795762761414590  11993738663105455885       3   936     NaN\n",
       "3         2522006254806484630  18200844491365025705       3  1048       6\n",
       "4         2035736119522953868   7143808482480365209       5  1185     NaN\n",
       "...                       ...                   ...     ...   ...     ...\n",
       "3640830   7482061050271556596   1018922217068317904       2   378     NaN\n",
       "3640831   7482061050271556596   1018922217068317904       2   378     NaN\n",
       "3640832   8928726821194342760  12046097390037935713       4   424     NaN\n",
       "3640833  13307262877386644281   4362229515870954070       5   618     NaN\n",
       "3640834  11834318066556156799  12046097390037935713       5   312     NaN\n",
       "\n",
       "[3639564 rows x 5 columns]"
      ]
     },
     "execution_count": 28,
     "metadata": {},
     "output_type": "execute_result"
    }
   ],
   "source": [
    "reviews"
   ]
  },
  {
   "cell_type": "code",
   "execution_count": 4,
   "metadata": {},
   "outputs": [],
   "source": [
    "reviews = reviews[reviews.rating.notna()]\n",
    "reviews['rating'] = reviews['rating'].apply(int)\n",
    "reviews['org_id'] = reviews['org_id'].astype(str)\n",
    "reviews['user_id'] = reviews['user_id'].astype(str)\n",
    "organizations.index = organizations.index.astype(str)\n",
    "users.index = users.index.astype(str)\n",
    "test_users.index = test_users.index.astype(str)\n",
    "rubrics.index = rubrics.index.astype(str)\n",
    "aspects.index = aspects.index.astype(str)\n",
    "### DONT FORGET TO CONVERT OTHER DATAFRAMES TO STR"
   ]
  },
  {
   "cell_type": "code",
   "execution_count": 5,
   "metadata": {},
   "outputs": [],
   "source": [
    "rated = reviews.groupby('user_id').rating.count()\n",
    "good_users = rated[rated > 10].index\n",
    "rated_orgs = reviews.groupby('org_id').rating.count()\n",
    "good_orgs = rated_orgs[rated_orgs > 10].index"
   ]
  },
  {
   "cell_type": "code",
   "execution_count": 6,
   "metadata": {},
   "outputs": [],
   "source": [
    "cleaned_reviews = reviews.query('user_id in @good_users and org_id in @good_orgs')"
   ]
  },
  {
   "cell_type": "code",
   "execution_count": 7,
   "metadata": {},
   "outputs": [],
   "source": [
    "users_ordered, orgs_ordered, reviews_ordered = convert_ids_to_ordered(users, organizations, reviews)\n",
    "n_users = len(users_ordered)\n",
    "n_orgs = len(orgs_ordered)"
   ]
  },
  {
   "cell_type": "code",
   "execution_count": 8,
   "metadata": {},
   "outputs": [
    {
     "name": "stderr",
     "output_type": "stream",
     "text": [
      "/tmp/ipykernel_46990/540280539.py:3: SettingWithCopyWarning: \n",
      "A value is trying to be set on a copy of a slice from a DataFrame.\n",
      "Try using .loc[row_indexer,col_indexer] = value instead\n",
      "\n",
      "See the caveats in the documentation: https://pandas.pydata.org/pandas-docs/stable/user_guide/indexing.html#returning-a-view-versus-a-copy\n",
      "  orgs_rubrics[rubrics.rubric_name.iloc[i]] = orgs_rubrics['rubrics_id'].apply(lambda x: str(rubrics.index[i]) in x.split())\n"
     ]
    }
   ],
   "source": [
    "orgs_rubrics = orgs_ordered[['rubrics_id']]\n",
    "for i in range(len(rubrics)):\n",
    "    orgs_rubrics[rubrics.rubric_name.iloc[i]] = orgs_rubrics['rubrics_id'].apply(lambda x: str(rubrics.index[i]) in x.split())\n",
    "orgs_rubrics = orgs_rubrics.drop('rubrics_id', axis=1)\n",
    "orgs_rubrics = orgs_rubrics.join(orgs_ordered['ordered_id']).set_index('ordered_id')"
   ]
  },
  {
   "cell_type": "code",
   "execution_count": 9,
   "metadata": {},
   "outputs": [],
   "source": [
    "orgs_features = orgs_ordered[['features_id']].astype(str)\n",
    "for i in range(len(features)):\n",
    "    orgs_features[features.feature_name.iloc[i]] = orgs_features['features_id'].apply(lambda x: str(features.index[i]) in x.split())\n",
    "orgs_features = orgs_features.drop('features_id', axis=1)\n",
    "orgs_features = orgs_features.join(orgs_ordered['ordered_id']).set_index('ordered_id')"
   ]
  },
  {
   "cell_type": "code",
   "execution_count": 10,
   "metadata": {},
   "outputs": [],
   "source": [
    "validation_split_day = 1050\n",
    "train_reviews = reviews_ordered[reviews_ordered.ts < validation_split_day]\n",
    "test_reviews = reviews_ordered[reviews_ordered.ts >= validation_split_day]"
   ]
  },
  {
   "cell_type": "markdown",
   "metadata": {},
   "source": [
    "#### Convert to sparce matrix"
   ]
  },
  {
   "cell_type": "code",
   "execution_count": 11,
   "metadata": {},
   "outputs": [
    {
     "name": "stderr",
     "output_type": "stream",
     "text": [
      "/tmp/ipykernel_46990/2938850681.py:5: SettingWithCopyWarning: \n",
      "A value is trying to be set on a copy of a slice from a DataFrame.\n",
      "Try using .loc[row_indexer,col_indexer] = value instead\n",
      "\n",
      "See the caveats in the documentation: https://pandas.pydata.org/pandas-docs/stable/user_guide/indexing.html#returning-a-view-versus-a-copy\n",
      "  df['user_index'] = df['ordered_id_user']\n",
      "/tmp/ipykernel_46990/2938850681.py:6: SettingWithCopyWarning: \n",
      "A value is trying to be set on a copy of a slice from a DataFrame.\n",
      "Try using .loc[row_indexer,col_indexer] = value instead\n",
      "\n",
      "See the caveats in the documentation: https://pandas.pydata.org/pandas-docs/stable/user_guide/indexing.html#returning-a-view-versus-a-copy\n",
      "  df['org_index'] = df['ordered_id_org'] + last_user + 1\n"
     ]
    }
   ],
   "source": [
    "import scipy.sparse as sp\n",
    "last_user = max(reviews_ordered.ordered_id_user)\n",
    "\n",
    "def sp_indeces(df):\n",
    "    df['user_index'] = df['ordered_id_user']\n",
    "    df['org_index'] = df['ordered_id_org'] + last_user + 1\n",
    "    \n",
    "\n",
    "sp_indeces(train_reviews)\n",
    "sp_indeces(test_reviews)"
   ]
  },
  {
   "cell_type": "code",
   "execution_count": 12,
   "metadata": {},
   "outputs": [],
   "source": [
    "def make_sparse(df):\n",
    "    length = len(df)\n",
    "    coo = sp.coo_matrix(\n",
    "        ([1] * 2 * length, \n",
    "        (\n",
    "            list(range(length)) + list(range(length)),\n",
    "            list(df['org_index']) + list(df['user_index'])\n",
    "        )),\n",
    "        shape=(length, n_users+n_orgs)\n",
    "    )\n",
    "    sparse_rubrics = sp.coo_matrix(df.join(orgs_rubrics, on='ordered_id_org').loc[:, 'Булочная, пекарня':].astype(float))\n",
    "    sparse_features = sp.coo_matrix(df.join(orgs_features, on='ordered_id_org').loc[:, 'karaoke':].astype(float))\n",
    "    return sp.hstack([coo, sparse_rubrics, sparse_features])\n",
    "    \n",
    "X_train = make_sparse(train_reviews)\n",
    "X_test = make_sparse(test_reviews)\n",
    "y_train = train_reviews['rating']\n",
    "y_test = test_reviews['rating']"
   ]
  },
  {
   "cell_type": "code",
   "execution_count": 13,
   "metadata": {},
   "outputs": [],
   "source": [
    "os.makedirs(\"sparse_data/\", exist_ok=True)"
   ]
  },
  {
   "cell_type": "code",
   "execution_count": 14,
   "metadata": {},
   "outputs": [],
   "source": [
    "import scipy.sparse as sp\n",
    "sp.save_npz('sparse_data/X_train.npz', X_train)\n",
    "sp.save_npz('sparse_data/X_test.npz', X_test)"
   ]
  },
  {
   "cell_type": "code",
   "execution_count": 15,
   "metadata": {},
   "outputs": [],
   "source": [
    "y_train.to_csv('sparse_data/y_train.csv', index=False)\n",
    "y_test.to_csv('sparse_data/y_test.csv', index=False)"
   ]
  },
  {
   "cell_type": "markdown",
   "metadata": {},
   "source": [
    "## Generate data for submission run"
   ]
  },
  {
   "cell_type": "code",
   "execution_count": 16,
   "metadata": {},
   "outputs": [],
   "source": [
    "test_users = test_users.join(users_ordered)\n",
    "msk_mask = np.array(orgs_ordered.city == 'msk')"
   ]
  },
  {
   "cell_type": "code",
   "execution_count": 17,
   "metadata": {},
   "outputs": [],
   "source": [
    "orgs_ordered['other_city'] = orgs_ordered['city'].apply(lambda x: 'spb' if x == 'msk' else 'msk')"
   ]
  },
  {
   "cell_type": "code",
   "execution_count": 18,
   "metadata": {},
   "outputs": [
    {
     "name": "stderr",
     "output_type": "stream",
     "text": [
      "100%|██████████| 34/34 [18:41<00:00, 32.99s/it]\n"
     ]
    }
   ],
   "source": [
    "submission_reviews = []\n",
    "for i in tqdm(range(len(test_users) // 500 + 1)):\n",
    "    submission_review_batch = test_users.iloc[i*500:(i+1)*500].merge(\n",
    "        orgs_ordered[['other_city', 'ordered_id']], how='inner',\n",
    "        left_on='city', right_on='other_city', suffixes=('_user', '_org'))\n",
    "    sp_indeces(submission_review_batch)\n",
    "    submission_reviews.append(make_sparse(submission_review_batch))"
   ]
  },
  {
   "cell_type": "code",
   "execution_count": 19,
   "metadata": {},
   "outputs": [],
   "source": [
    "os.makedirs(\"sparse_data/submission_batches_large/\", exist_ok=True)"
   ]
  },
  {
   "cell_type": "code",
   "execution_count": 20,
   "metadata": {},
   "outputs": [
    {
     "name": "stderr",
     "output_type": "stream",
     "text": [
      "100%|██████████| 34/34 [29:37<00:00, 52.27s/it]\n"
     ]
    }
   ],
   "source": [
    "for i in tqdm(range(len(submission_reviews))):\n",
    "    sp.save_npz(f'sparse_data/submission_batches_large/batch{i}.npz', submission_reviews[i])"
   ]
  }
 ],
 "metadata": {
  "kernelspec": {
   "display_name": "base",
   "language": "python",
   "name": "base"
  },
  "language_info": {
   "codemirror_mode": {
    "name": "ipython",
    "version": 3
   },
   "file_extension": ".py",
   "mimetype": "text/x-python",
   "name": "python",
   "nbconvert_exporter": "python",
   "pygments_lexer": "ipython3",
   "version": "3.8.5"
  }
 },
 "nbformat": 4,
 "nbformat_minor": 4
}
